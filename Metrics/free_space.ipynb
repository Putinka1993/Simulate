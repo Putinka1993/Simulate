{
 "cells": [
  {
   "cell_type": "markdown",
   "id": "c48e44ef-249f-47b8-8574-5995209fc58a",
   "metadata": {},
   "source": [
    "## Теперь о монетизации - Sleepy работает по подписке: 990 рублей в месяц. Первые две недели бесплатно, затем клиент видит пейвол (от «pay wall» - как бы стена, которая тебя не пускает дальше, пока ты не оплатишь) и, если привязывает карту, продолжает пользоваться подпиской, а деньги списываются автоматически.\n",
    "\n",
    "## Если говорить о привлечении, то это молодой венчурный стартап, поэтому привлечение одного пользователя (даже если он не заплатит) довольно дорогое - 500 рублей.\n",
    "\n",
    "## Данных у вас немного - вам дан датасет всего из двух полей:\n",
    "\n",
    "\n",
    "## user - номер пользователя в системе\n",
    "\n",
    "## dt - дата его захода в приложение\n",
    "\n",
    "## Данные устроены таким образом, что фиксируется только один заход пользователя за день - одинаковых пар \"пользователь - дата\" быть не может. \n",
    "## Кроме того, фиксируются только заходы пользователей на триальной версии и тех, кто прошел пейвол. \n",
    "## Если человек открыл приложение после 14 дня и не привязал карту - такой заход не фиксируется."
   ]
  },
  {
   "cell_type": "code",
   "execution_count": 1,
   "id": "5ae5cd8f-0dfb-4841-8332-9e9df0ab5dcb",
   "metadata": {},
   "outputs": [],
   "source": [
    "import pandas as pd\n",
    "import math"
   ]
  },
  {
   "cell_type": "code",
   "execution_count": 2,
   "id": "49edd03e-a0ed-4ccb-9f8a-0dbc7b027d35",
   "metadata": {},
   "outputs": [],
   "source": [
    "# n day retention\n",
    "\n",
    "\n",
    "# WIN\n",
    "users_sleepy = pd.read_csv(r'C:\\Users\\Incognitus\\Downloads\\entries.csv', sep=';') \n",
    "# MAC\n",
    "#users_sleepy = pd.read_csv(r'/Users/vladislavlipkin/Downloads/entries.csv', sep=';') "
   ]
  },
  {
   "cell_type": "code",
   "execution_count": 3,
   "id": "4e4b6240-1ac9-4aac-8967-2f29344483ff",
   "metadata": {},
   "outputs": [
    {
     "data": {
      "text/html": [
       "<div>\n",
       "<style scoped>\n",
       "    .dataframe tbody tr th:only-of-type {\n",
       "        vertical-align: middle;\n",
       "    }\n",
       "\n",
       "    .dataframe tbody tr th {\n",
       "        vertical-align: top;\n",
       "    }\n",
       "\n",
       "    .dataframe thead th {\n",
       "        text-align: right;\n",
       "    }\n",
       "</style>\n",
       "<table border=\"1\" class=\"dataframe\">\n",
       "  <thead>\n",
       "    <tr style=\"text-align: right;\">\n",
       "      <th></th>\n",
       "      <th>user</th>\n",
       "      <th>dt</th>\n",
       "      <th>Unnamed: 2</th>\n",
       "    </tr>\n",
       "  </thead>\n",
       "  <tbody>\n",
       "    <tr>\n",
       "      <th>0</th>\n",
       "      <td>0</td>\n",
       "      <td>12.11.2023</td>\n",
       "      <td>NaN</td>\n",
       "    </tr>\n",
       "    <tr>\n",
       "      <th>1</th>\n",
       "      <td>0</td>\n",
       "      <td>13.11.2023</td>\n",
       "      <td>NaN</td>\n",
       "    </tr>\n",
       "    <tr>\n",
       "      <th>2</th>\n",
       "      <td>0</td>\n",
       "      <td>14.11.2023</td>\n",
       "      <td>NaN</td>\n",
       "    </tr>\n",
       "    <tr>\n",
       "      <th>3</th>\n",
       "      <td>0</td>\n",
       "      <td>16.11.2023</td>\n",
       "      <td>NaN</td>\n",
       "    </tr>\n",
       "    <tr>\n",
       "      <th>4</th>\n",
       "      <td>0</td>\n",
       "      <td>17.11.2023</td>\n",
       "      <td>NaN</td>\n",
       "    </tr>\n",
       "  </tbody>\n",
       "</table>\n",
       "</div>"
      ],
      "text/plain": [
       "   user          dt  Unnamed: 2\n",
       "0     0  12.11.2023         NaN\n",
       "1     0  13.11.2023         NaN\n",
       "2     0  14.11.2023         NaN\n",
       "3     0  16.11.2023         NaN\n",
       "4     0  17.11.2023         NaN"
      ]
     },
     "execution_count": 3,
     "metadata": {},
     "output_type": "execute_result"
    }
   ],
   "source": [
    "users_sleepy.head(5)"
   ]
  },
  {
   "cell_type": "code",
   "execution_count": 14,
   "id": "5fd21c2e-9bfe-4d85-8096-9625c1c84f1e",
   "metadata": {},
   "outputs": [
    {
     "name": "stdout",
     "output_type": "stream",
     "text": [
      "Retention by Month\n"
     ]
    },
    {
     "data": {
      "text/html": [
       "<div>\n",
       "<style scoped>\n",
       "    .dataframe tbody tr th:only-of-type {\n",
       "        vertical-align: middle;\n",
       "    }\n",
       "\n",
       "    .dataframe tbody tr th {\n",
       "        vertical-align: top;\n",
       "    }\n",
       "\n",
       "    .dataframe thead th {\n",
       "        text-align: right;\n",
       "    }\n",
       "</style>\n",
       "<table border=\"1\" class=\"dataframe\">\n",
       "  <thead>\n",
       "    <tr style=\"text-align: right;\">\n",
       "      <th></th>\n",
       "      <th>month</th>\n",
       "      <th>unique_users</th>\n",
       "      <th>retention</th>\n",
       "      <th>period</th>\n",
       "    </tr>\n",
       "  </thead>\n",
       "  <tbody>\n",
       "    <tr>\n",
       "      <th>0</th>\n",
       "      <td>0</td>\n",
       "      <td>2000</td>\n",
       "      <td>100.00</td>\n",
       "      <td>Month</td>\n",
       "    </tr>\n",
       "    <tr>\n",
       "      <th>1</th>\n",
       "      <td>1</td>\n",
       "      <td>1850</td>\n",
       "      <td>92.50</td>\n",
       "      <td>Month</td>\n",
       "    </tr>\n",
       "    <tr>\n",
       "      <th>2</th>\n",
       "      <td>2</td>\n",
       "      <td>1777</td>\n",
       "      <td>88.85</td>\n",
       "      <td>Month</td>\n",
       "    </tr>\n",
       "    <tr>\n",
       "      <th>3</th>\n",
       "      <td>3</td>\n",
       "      <td>1667</td>\n",
       "      <td>83.35</td>\n",
       "      <td>Month</td>\n",
       "    </tr>\n",
       "    <tr>\n",
       "      <th>4</th>\n",
       "      <td>4</td>\n",
       "      <td>1505</td>\n",
       "      <td>75.25</td>\n",
       "      <td>Month</td>\n",
       "    </tr>\n",
       "    <tr>\n",
       "      <th>5</th>\n",
       "      <td>5</td>\n",
       "      <td>1248</td>\n",
       "      <td>62.40</td>\n",
       "      <td>Month</td>\n",
       "    </tr>\n",
       "    <tr>\n",
       "      <th>6</th>\n",
       "      <td>6</td>\n",
       "      <td>1053</td>\n",
       "      <td>52.65</td>\n",
       "      <td>Month</td>\n",
       "    </tr>\n",
       "    <tr>\n",
       "      <th>7</th>\n",
       "      <td>7</td>\n",
       "      <td>757</td>\n",
       "      <td>37.85</td>\n",
       "      <td>Month</td>\n",
       "    </tr>\n",
       "    <tr>\n",
       "      <th>8</th>\n",
       "      <td>8</td>\n",
       "      <td>605</td>\n",
       "      <td>30.25</td>\n",
       "      <td>Month</td>\n",
       "    </tr>\n",
       "    <tr>\n",
       "      <th>9</th>\n",
       "      <td>9</td>\n",
       "      <td>385</td>\n",
       "      <td>19.25</td>\n",
       "      <td>Month</td>\n",
       "    </tr>\n",
       "  </tbody>\n",
       "</table>\n",
       "</div>"
      ],
      "text/plain": [
       "   month  unique_users  retention period\n",
       "0      0          2000     100.00  Month\n",
       "1      1          1850      92.50  Month\n",
       "2      2          1777      88.85  Month\n",
       "3      3          1667      83.35  Month\n",
       "4      4          1505      75.25  Month\n",
       "5      5          1248      62.40  Month\n",
       "6      6          1053      52.65  Month\n",
       "7      7           757      37.85  Month\n",
       "8      8           605      30.25  Month\n",
       "9      9           385      19.25  Month"
      ]
     },
     "metadata": {},
     "output_type": "display_data"
    },
    {
     "name": "stdout",
     "output_type": "stream",
     "text": [
      "6.690500000000001\n"
     ]
    }
   ],
   "source": [
    "# --- подготовка данных ---\n",
    "users_filter = users_sleepy.loc[:, ['user', 'dt']]\n",
    "users_filter['dt'] = pd.to_datetime(users_filter['dt'], format='%d.%m.%Y')\n",
    "users_filter['dt_reg'] = users_filter.groupby('user')['dt'].transform('min')\n",
    "users_filter['diff'] = (users_filter['dt'] - users_filter['dt_reg']).dt.days\n",
    "users_filter['week'] = round(users_filter['diff'] / 7, 0)\n",
    "users_filter['month'] = round(users_filter['diff'] / 30, 0)\n",
    "\n",
    "# --- считаем общее количество пользователей ---\n",
    "all_users = users_filter['user'].nunique()\n",
    "\n",
    "# --- retention по разным периодам ---\n",
    "users_filter['N_DAY_retention']   = users_filter.groupby('diff')['user'].transform('nunique') / all_users * 100\n",
    "users_filter['N_WEEK_retention']  = users_filter.groupby('week')['user'].transform('nunique') / all_users * 100\n",
    "users_filter['N_MONTH_retention'] = users_filter.groupby('month')['user'].transform('nunique') / all_users * 100\n",
    "\n",
    "\n",
    "# 🔹🔹🔹 Универсальная переменная для переключения периода 🔹🔹🔹\n",
    "period = 'month'     # варианты: 'day', 'week', 'month'\n",
    "\n",
    "\n",
    "# --- выбираем колонку и подписи в зависимости от периода ---\n",
    "if period == 'day':\n",
    "    idx_col = 'diff'\n",
    "    period_name = 'Day'\n",
    "elif period == 'week':\n",
    "    idx_col = 'week'\n",
    "    period_name = 'Week'\n",
    "elif period == 'month':\n",
    "    idx_col = 'month'\n",
    "    period_name = 'Month'\n",
    "else:\n",
    "    raise ValueError(\"period must be 'day', 'week', or 'month'\")\n",
    "\n",
    "\n",
    "# --- создаем универсальный pivot ---\n",
    "pivot = (\n",
    "    users_filter\n",
    "    .groupby(idx_col, as_index=False)['user']\n",
    "    .nunique()\n",
    "    .rename(columns={'user': 'unique_users'})\n",
    ")\n",
    "\n",
    "pivot['retention'] = pivot['unique_users'] / all_users * 100\n",
    "pivot['period'] = period_name  # добавляем столбец для понятного вывода\n",
    "\n",
    "# --- создаем полный диапазон индексов ---\n",
    "full_range = pd.DataFrame({idx_col: range(int(pivot[idx_col].min()), int(pivot[idx_col].max()) + 1)})\n",
    "pivot_full = full_range.merge(pivot, on=idx_col, how='left')\n",
    "\n",
    "# --- вывод ---\n",
    "print(f\"Retention by {period_name}\")\n",
    "display(pivot_full.head(10))\n",
    "print(pivot_full['retention'].sum() / 100)"
   ]
  },
  {
   "cell_type": "code",
   "execution_count": null,
   "id": "5e0928cd-13f0-497d-8f8e-c565878344d7",
   "metadata": {},
   "outputs": [],
   "source": [
    "users_filter"
   ]
  },
  {
   "cell_type": "code",
   "execution_count": null,
   "id": "8d419d65-f39a-482c-8a19-961c94155961",
   "metadata": {},
   "outputs": [],
   "source": [
    "# users_filter['month'] = round(users_filter['diff'] / 30, 0)\n",
    "# users_filter['week'] = round(users_filter['diff'] / 7, 0)\n",
    "users_filter"
   ]
  },
  {
   "cell_type": "code",
   "execution_count": null,
   "id": "60aa9dd0-daf1-46c8-8364-ceb8336e3d81",
   "metadata": {},
   "outputs": [],
   "source": [
    "print(f'count of month: {users_filter['month'].sum() / 100}')\n",
    "print(f'count of week: {users_filter['week'].sum() / 100}')"
   ]
  },
  {
   "cell_type": "code",
   "execution_count": null,
   "id": "49118b1a-c107-422e-9fd0-ed0e3ddbcebc",
   "metadata": {},
   "outputs": [],
   "source": [
    "# count users paying\n",
    "cpu = users_filter.query('diff >= 14')['user'].nunique()\n",
    "print(f'количество людей купивших подписку : {cpu}')\n",
    "print()\n",
    "price_all_users = all_users * 500\n",
    "net_profit = cpu * 990 - price_all_users\n",
    "print(f'стоимость привлечения за всех пользователей {price_all_users}')\n",
    "print()\n",
    "print(f'выручка за все проданные подписки: {cpu * 990}')\n",
    "print()\n",
    "print(f'чистая прибыль с учетом затратов: {net_profit}')"
   ]
  },
  {
   "cell_type": "code",
   "execution_count": null,
   "id": "673ae42d-96f9-4ecc-9a53-804a32553864",
   "metadata": {},
   "outputs": [],
   "source": [
    "(full_range / users_filter['user'].nunique())['diff'].sum() / 30"
   ]
  },
  {
   "cell_type": "code",
   "execution_count": null,
   "id": "c2fb4a12-a0c2-42d5-9fe8-ea153aee02b3",
   "metadata": {},
   "outputs": [],
   "source": [
    "pivot_full['retention'].sum() / 100"
   ]
  },
  {
   "cell_type": "code",
   "execution_count": null,
   "id": "9da6b5eb-19c7-4d2b-84aa-ff98391bbf52",
   "metadata": {},
   "outputs": [],
   "source": [
    "uniq_users = users_filter.query('14 <= diff <= 16')['user'].nunique()\n",
    "print(f'количество уникальных пользователей: {uniq_users}')\n",
    "print(f'выручка: {uniq_users * 990}')"
   ]
  },
  {
   "cell_type": "code",
   "execution_count": null,
   "id": "220777b2-fd7a-4786-9fc7-da8555edbf6a",
   "metadata": {},
   "outputs": [],
   "source": [
    "pivot_full.query('diff >= 14').sort_values('retention', ascending=False)"
   ]
  },
  {
   "cell_type": "code",
   "execution_count": null,
   "id": "9dca3431-b032-41c7-aa5c-ba74e77af136",
   "metadata": {},
   "outputs": [],
   "source": [
    "users_filter.query('diff >= 14')['user'].nunique() - 500"
   ]
  },
  {
   "cell_type": "code",
   "execution_count": null,
   "id": "1af65c71-2e1b-44a3-8d1d-2f26fdec7505",
   "metadata": {},
   "outputs": [],
   "source": [
    "pivot_full.query('diff >= 14')"
   ]
  }
 ],
 "metadata": {
  "kernelspec": {
   "display_name": "Python 3 (ipykernel)",
   "language": "python",
   "name": "python3"
  },
  "language_info": {
   "codemirror_mode": {
    "name": "ipython",
    "version": 3
   },
   "file_extension": ".py",
   "mimetype": "text/x-python",
   "name": "python",
   "nbconvert_exporter": "python",
   "pygments_lexer": "ipython3",
   "version": "3.12.7"
  }
 },
 "nbformat": 4,
 "nbformat_minor": 5
}
