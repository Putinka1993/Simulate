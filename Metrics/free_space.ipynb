{
 "cells": [
  {
   "cell_type": "code",
   "execution_count": 1,
   "id": "d957713c-3bc2-4835-9e59-084b345bd727",
   "metadata": {},
   "outputs": [],
   "source": [
    "import pandas as pd\n",
    "import math"
   ]
  },
  {
   "cell_type": "markdown",
   "id": "1fded3ec-72af-4576-b1ea-578e626c6348",
   "metadata": {},
   "source": [
    "# Поднять инвестиции в Salesify: описание кейса"
   ]
  },
  {
   "cell_type": "markdown",
   "id": "5639a5f0-efb8-4b9f-9343-ec4d4ba33260",
   "metadata": {},
   "source": [
    "Ваш продукт представлен в 3 тарифах:\n",
    "\n",
    "- базовый (только аналитика)\n",
    "- продвинутый (аналитика + автозаказ)\n",
    "- премиальный (аналитика + автозаказ + управление рекламой)"
   ]
  },
  {
   "cell_type": "markdown",
   "id": "6b055623-07c9-41c1-9f9f-eeff1465e581",
   "metadata": {},
   "source": [
    "Цены тарифов:\n",
    "\n",
    "- базовый - 30 000 рублей в месяц\n",
    "- продвинутый - 50 000 рублей в месяц\n",
    "- премиальный - 100 000 рублей в месяц"
   ]
  },
  {
   "cell_type": "markdown",
   "id": "ca012968-ac6b-4f31-82b6-3f9473bb3ab8",
   "metadata": {},
   "source": [
    "Естественно, тарифы покупают неравномерно. За последний год структура продаж следующая (тарифы и цены не менялись):\n",
    "\n",
    "- базовый - 55%\n",
    "- продвинутый - 30%\n",
    "- премиальный - 15%"
   ]
  },
  {
   "cell_type": "markdown",
   "id": "b1dfb3d2-cdb6-48b2-b73e-6b1452dbc28c",
   "metadata": {},
   "source": [
    "Вводные данные\n",
    "\n",
    "1. - За последний месяц вы привлекли 314 заявок на проведение консультации с сайта\n",
    "2. - На прямую рекламу на сайт потратили 4761182 рублей за тот же период\n",
    "3. - Конверсия сайта - 2.5%\n",
    "4. - При росте количества заявок стоимость заявки растет примерно на 15% после каждой тысячи заявок в месяц (этими цифрами поделились фаундеры других аналогичных проектов)\n",
    "5. - По внутренней статистике - на каждые 100 заявок примерно 25 недозвонов или нецелевых заявок\n",
    "6. - Из оставшихся 75 заявок примерно 20% в итоге вносят первую оплату в течение 5 недель\n",
    "7. - За успешную продажу менеджер получает премию в размере 10% от выручки с вычетом налога (6% от выручки)\n",
    "8. - Вне зависимости от срока жизни конкретного клиента, мы всегда проводим первичную интеграцию, которая бесплатна для клиента, но стоит в себестоимости 10000 рублей для компании\n",
    "9. - Из дальнейших расходов - только выделенный сервер для клиента (ежемесячный расход, включая первый месяц). Вне зависимости от тарифа его стоимость - 2000 рублей в месяц.\n",
    "10. - В среднем клиент пользуется сервисом 1.5 года"
   ]
  },
  {
   "cell_type": "markdown",
   "id": "9aa3ce1f-6741-4e30-8aa2-cae41dda3b97",
   "metadata": {},
   "source": [
    "1. За последний месяц вы привлекли 314 заявок на проведение консультации с сайта"
   ]
  },
  {
   "cell_type": "markdown",
   "id": "f2c162e8-a327-4d95-992f-d3f3e8789dc1",
   "metadata": {},
   "source": [
    "2. На прямую рекламу на сайт потратили 4761182 рублей за тот же период"
   ]
  },
  {
   "cell_type": "markdown",
   "id": "eacdcf71-3f0f-487d-be70-900d388ef5fb",
   "metadata": {},
   "source": [
    "3. Конверсия сайта - 2.5%"
   ]
  },
  {
   "cell_type": "markdown",
   "id": "240ba1c6-1ab0-40a8-af39-ac307197cf67",
   "metadata": {},
   "source": [
    "4. При росте количества заявок стоимость заявки растет примерно на 15% после каждой тысячи заявок в месяц (этими цифрами поделились фаундеры других аналогичных проектов)"
   ]
  },
  {
   "cell_type": "markdown",
   "id": "1afb1a21-8649-4fc2-93e5-6965081c29c9",
   "metadata": {},
   "source": [
    "5. По внутренней статистике - на каждые 100 заявок примерно 25 недозвонов или нецелевых заявок"
   ]
  },
  {
   "cell_type": "markdown",
   "id": "b8d88207-aceb-449e-86af-26de0b31681a",
   "metadata": {},
   "source": [
    "6. Из оставшихся 75 заявок примерно 20% в итоге вносят первую оплату в течение 5 недель"
   ]
  },
  {
   "cell_type": "markdown",
   "id": "7e70811b-83d8-4644-951d-9630a0373e2b",
   "metadata": {},
   "source": [
    "7. За успешную продажу менеджер получает премию в размере 10% от выручки с вычетом налога (6% от выручки)"
   ]
  },
  {
   "cell_type": "markdown",
   "id": "6cc8177e-1117-40a8-946f-75b03f0c83bf",
   "metadata": {},
   "source": [
    "8.  Вне зависимости от срока жизни конкретного клиента, мы всегда проводим первичную интеграцию, которая бесплатна для клиента, но стоит в себестоимости 10000 рублей для компании"
   ]
  },
  {
   "cell_type": "markdown",
   "id": "b7d0e6c7-3bf7-4a54-9d9e-918156d94d46",
   "metadata": {},
   "source": [
    "9.  Из дальнейших расходов - только выделенный сервер для клиента (ежемесячный расход, включая первый месяц). Вне зависимости от тарифа его стоимость - 2000 рублей в месяц."
   ]
  },
  {
   "cell_type": "markdown",
   "id": "3d9d3ba6-df2d-4cae-9f75-9fc42f61eec4",
   "metadata": {},
   "source": [
    "10. В среднем клиент пользуется сервисом 1.5 года"
   ]
  },
  {
   "cell_type": "markdown",
   "id": "20cb6a2c-9b96-4c72-b7c7-53573e1eb869",
   "metadata": {},
   "source": [
    "2. \n",
    "10. LT = 1.5 года"
   ]
  },
  {
   "cell_type": "code",
   "execution_count": null,
   "id": "d407de3a-d5a4-4534-9f3c-92cddd9dd36c",
   "metadata": {},
   "outputs": [],
   "source": []
  },
  {
   "cell_type": "code",
   "execution_count": null,
   "id": "1ab66efd-4f8f-4a12-bab2-7b403a87ba6d",
   "metadata": {},
   "outputs": [],
   "source": []
  },
  {
   "cell_type": "code",
   "execution_count": null,
   "id": "ee7f8395-53fe-40ba-9bb5-6d1ef2b450aa",
   "metadata": {},
   "outputs": [],
   "source": []
  },
  {
   "cell_type": "code",
   "execution_count": 26,
   "id": "46ee09d0-90b6-4cf5-bbe2-40c06683fbf8",
   "metadata": {},
   "outputs": [
    {
     "name": "stdout",
     "output_type": "stream",
     "text": [
      "spent: 4761182\n",
      "reach: 12560.0\n",
      "Leads: 314\n",
      "v_Leads: 235.5\n",
      "CPM: 379.075\n",
      "236\n"
     ]
    }
   ],
   "source": [
    "spent = 4761182\n",
    "reach  = 314 * 100 / 2.5\n",
    "total_leads = 314\n",
    "invalid_rate = 0.25\n",
    "valid_leads = total_leads * (1 - invalid_rate)\n",
    "\n",
    "\n",
    "# Финансовые показатели \n",
    "LT = 18\n",
    "\n",
    "print(f'spent: {spent}')\n",
    "print(f'reach: {impression}')\n",
    "print(f'Leads: {total_leads}')\n",
    "print(f'v_Leads: {valid_leads}')\n",
    "# print(f'CPM: {CPM}')\n",
    "print(round(valid_leads))"
   ]
  },
  {
   "cell_type": "markdown",
   "id": "50b73bfc-37ff-4985-9486-e0ca1242e34e",
   "metadata": {},
   "source": [
    "конверсия сайта 2.5 процента "
   ]
  },
  {
   "cell_type": "code",
   "execution_count": 17,
   "id": "fc3d0574-8475-41ea-a922-820a4c23fe64",
   "metadata": {},
   "outputs": [
    {
     "data": {
      "text/plain": [
       "12560.0"
      ]
     },
     "execution_count": 17,
     "metadata": {},
     "output_type": "execute_result"
    }
   ],
   "source": [
    "count_users_for_month = 314 * 100 / 2.5 # всего пользователей за месяц.\n",
    "count_users_for_month"
   ]
  },
  {
   "cell_type": "code",
   "execution_count": 11,
   "id": "50fda49d-1c27-442b-ae1a-f808061825f5",
   "metadata": {},
   "outputs": [
    {
     "name": "stdout",
     "output_type": "stream",
     "text": [
      "base: 207240000.00000003\n",
      "pro: 188400000.0\n",
      "premium: 188400000.0\n",
      "sum all tarifes: 584040000.0\n",
      "11\n"
     ]
    }
   ],
   "source": [
    "# доход за месяц \n",
    "base_sum = 12560 * 0.55 * 30000\n",
    "pro_sum = 12560 * 0.30 * 50000\n",
    "premium_sum = 12560 * 0.15 * 100000\n",
    "print(f'base: {base_sum}')\n",
    "print(f'pro: {pro_sum}')\n",
    "print(f'premium: {premium_sum}')\n",
    "print(f'sum all tarifes: {base_sum + pro_sum + premium_sum}')\n",
    "print(len(str(base_sum + pro_sum + premium_sum)))"
   ]
  },
  {
   "cell_type": "code",
   "execution_count": null,
   "id": "3077bbb7-0ce3-4887-9455-f8231d2f7bb2",
   "metadata": {},
   "outputs": [],
   "source": []
  },
  {
   "cell_type": "markdown",
   "id": "816c2c67-6f92-4804-8c03-82262f00ffea",
   "metadata": {},
   "source": [
    "## Теперь о монетизации - Sleepy работает по подписке: 990 рублей в месяц. Первые две недели бесплатно, затем клиент видит пейвол (от «pay wall» - как бы стена, которая тебя не пускает дальше, пока ты не оплатишь) и, если привязывает карту, продолжает пользоваться подпиской, а деньги списываются автоматически.\n",
    "\n",
    "## Если говорить о привлечении, то это молодой венчурный стартап, поэтому привлечение одного пользователя (даже если он не заплатит) довольно дорогое - 500 рублей.\n",
    "\n",
    "## Данных у вас немного - вам дан датасет всего из двух полей:\n",
    "\n",
    "\n",
    "## user - номер пользователя в системе\n",
    "\n",
    "## dt - дата его захода в приложение\n",
    "\n",
    "## Данные устроены таким образом, что фиксируется только один заход пользователя за день - одинаковых пар \"пользователь - дата\" быть не может. \n",
    "## Кроме того, фиксируются только заходы пользователей на триальной версии и тех, кто прошел пейвол. \n",
    "## Если человек открыл приложение после 14 дня и не привязал карту - такой заход не фиксируется."
   ]
  },
  {
   "cell_type": "code",
   "execution_count": 4,
   "id": "49edd03e-a0ed-4ccb-9f8a-0dbc7b027d35",
   "metadata": {},
   "outputs": [],
   "source": [
    "# n day retention\n",
    "\n",
    "\n",
    "# WIN\n",
    "users_sleepy = pd.read_csv(r'C:\\Users\\Incognitus\\Downloads\\entries.csv', sep=';') \n",
    "# MAC\n",
    "# users_sleepy = pd.read_csv(r'/Users/vladislavlipkin/Downloads/entries.csv', sep=';') "
   ]
  },
  {
   "cell_type": "code",
   "execution_count": 5,
   "id": "4e4b6240-1ac9-4aac-8967-2f29344483ff",
   "metadata": {},
   "outputs": [
    {
     "data": {
      "text/html": [
       "<div>\n",
       "<style scoped>\n",
       "    .dataframe tbody tr th:only-of-type {\n",
       "        vertical-align: middle;\n",
       "    }\n",
       "\n",
       "    .dataframe tbody tr th {\n",
       "        vertical-align: top;\n",
       "    }\n",
       "\n",
       "    .dataframe thead th {\n",
       "        text-align: right;\n",
       "    }\n",
       "</style>\n",
       "<table border=\"1\" class=\"dataframe\">\n",
       "  <thead>\n",
       "    <tr style=\"text-align: right;\">\n",
       "      <th></th>\n",
       "      <th>user</th>\n",
       "      <th>dt</th>\n",
       "      <th>Unnamed: 2</th>\n",
       "    </tr>\n",
       "  </thead>\n",
       "  <tbody>\n",
       "    <tr>\n",
       "      <th>0</th>\n",
       "      <td>0</td>\n",
       "      <td>12.11.2023</td>\n",
       "      <td>NaN</td>\n",
       "    </tr>\n",
       "    <tr>\n",
       "      <th>1</th>\n",
       "      <td>0</td>\n",
       "      <td>13.11.2023</td>\n",
       "      <td>NaN</td>\n",
       "    </tr>\n",
       "    <tr>\n",
       "      <th>2</th>\n",
       "      <td>0</td>\n",
       "      <td>14.11.2023</td>\n",
       "      <td>NaN</td>\n",
       "    </tr>\n",
       "    <tr>\n",
       "      <th>3</th>\n",
       "      <td>0</td>\n",
       "      <td>16.11.2023</td>\n",
       "      <td>NaN</td>\n",
       "    </tr>\n",
       "    <tr>\n",
       "      <th>4</th>\n",
       "      <td>0</td>\n",
       "      <td>17.11.2023</td>\n",
       "      <td>NaN</td>\n",
       "    </tr>\n",
       "  </tbody>\n",
       "</table>\n",
       "</div>"
      ],
      "text/plain": [
       "   user          dt  Unnamed: 2\n",
       "0     0  12.11.2023         NaN\n",
       "1     0  13.11.2023         NaN\n",
       "2     0  14.11.2023         NaN\n",
       "3     0  16.11.2023         NaN\n",
       "4     0  17.11.2023         NaN"
      ]
     },
     "execution_count": 5,
     "metadata": {},
     "output_type": "execute_result"
    }
   ],
   "source": [
    "users_sleepy.head(5)"
   ]
  },
  {
   "cell_type": "code",
   "execution_count": 6,
   "id": "5fd21c2e-9bfe-4d85-8096-9625c1c84f1e",
   "metadata": {},
   "outputs": [
    {
     "name": "stdout",
     "output_type": "stream",
     "text": [
      "Retention by Week\n"
     ]
    },
    {
     "data": {
      "text/html": [
       "<div>\n",
       "<style scoped>\n",
       "    .dataframe tbody tr th:only-of-type {\n",
       "        vertical-align: middle;\n",
       "    }\n",
       "\n",
       "    .dataframe tbody tr th {\n",
       "        vertical-align: top;\n",
       "    }\n",
       "\n",
       "    .dataframe thead th {\n",
       "        text-align: right;\n",
       "    }\n",
       "</style>\n",
       "<table border=\"1\" class=\"dataframe\">\n",
       "  <thead>\n",
       "    <tr style=\"text-align: right;\">\n",
       "      <th></th>\n",
       "      <th>week</th>\n",
       "      <th>unique_users</th>\n",
       "      <th>retention</th>\n",
       "      <th>period</th>\n",
       "    </tr>\n",
       "  </thead>\n",
       "  <tbody>\n",
       "    <tr>\n",
       "      <th>0</th>\n",
       "      <td>0</td>\n",
       "      <td>2000</td>\n",
       "      <td>100.00</td>\n",
       "      <td>Week</td>\n",
       "    </tr>\n",
       "    <tr>\n",
       "      <th>1</th>\n",
       "      <td>1</td>\n",
       "      <td>1812</td>\n",
       "      <td>90.60</td>\n",
       "      <td>Week</td>\n",
       "    </tr>\n",
       "    <tr>\n",
       "      <th>2</th>\n",
       "      <td>2</td>\n",
       "      <td>1660</td>\n",
       "      <td>83.00</td>\n",
       "      <td>Week</td>\n",
       "    </tr>\n",
       "    <tr>\n",
       "      <th>3</th>\n",
       "      <td>3</td>\n",
       "      <td>1476</td>\n",
       "      <td>73.80</td>\n",
       "      <td>Week</td>\n",
       "    </tr>\n",
       "    <tr>\n",
       "      <th>4</th>\n",
       "      <td>4</td>\n",
       "      <td>1395</td>\n",
       "      <td>69.75</td>\n",
       "      <td>Week</td>\n",
       "    </tr>\n",
       "    <tr>\n",
       "      <th>5</th>\n",
       "      <td>5</td>\n",
       "      <td>1344</td>\n",
       "      <td>67.20</td>\n",
       "      <td>Week</td>\n",
       "    </tr>\n",
       "    <tr>\n",
       "      <th>6</th>\n",
       "      <td>6</td>\n",
       "      <td>1339</td>\n",
       "      <td>66.95</td>\n",
       "      <td>Week</td>\n",
       "    </tr>\n",
       "    <tr>\n",
       "      <th>7</th>\n",
       "      <td>7</td>\n",
       "      <td>1264</td>\n",
       "      <td>63.20</td>\n",
       "      <td>Week</td>\n",
       "    </tr>\n",
       "    <tr>\n",
       "      <th>8</th>\n",
       "      <td>8</td>\n",
       "      <td>1205</td>\n",
       "      <td>60.25</td>\n",
       "      <td>Week</td>\n",
       "    </tr>\n",
       "    <tr>\n",
       "      <th>9</th>\n",
       "      <td>9</td>\n",
       "      <td>1143</td>\n",
       "      <td>57.15</td>\n",
       "      <td>Week</td>\n",
       "    </tr>\n",
       "    <tr>\n",
       "      <th>10</th>\n",
       "      <td>10</td>\n",
       "      <td>1078</td>\n",
       "      <td>53.90</td>\n",
       "      <td>Week</td>\n",
       "    </tr>\n",
       "    <tr>\n",
       "      <th>11</th>\n",
       "      <td>11</td>\n",
       "      <td>1026</td>\n",
       "      <td>51.30</td>\n",
       "      <td>Week</td>\n",
       "    </tr>\n",
       "    <tr>\n",
       "      <th>12</th>\n",
       "      <td>12</td>\n",
       "      <td>943</td>\n",
       "      <td>47.15</td>\n",
       "      <td>Week</td>\n",
       "    </tr>\n",
       "    <tr>\n",
       "      <th>13</th>\n",
       "      <td>13</td>\n",
       "      <td>928</td>\n",
       "      <td>46.40</td>\n",
       "      <td>Week</td>\n",
       "    </tr>\n",
       "    <tr>\n",
       "      <th>14</th>\n",
       "      <td>14</td>\n",
       "      <td>854</td>\n",
       "      <td>42.70</td>\n",
       "      <td>Week</td>\n",
       "    </tr>\n",
       "    <tr>\n",
       "      <th>15</th>\n",
       "      <td>15</td>\n",
       "      <td>797</td>\n",
       "      <td>39.85</td>\n",
       "      <td>Week</td>\n",
       "    </tr>\n",
       "    <tr>\n",
       "      <th>16</th>\n",
       "      <td>16</td>\n",
       "      <td>751</td>\n",
       "      <td>37.55</td>\n",
       "      <td>Week</td>\n",
       "    </tr>\n",
       "    <tr>\n",
       "      <th>17</th>\n",
       "      <td>17</td>\n",
       "      <td>715</td>\n",
       "      <td>35.75</td>\n",
       "      <td>Week</td>\n",
       "    </tr>\n",
       "    <tr>\n",
       "      <th>18</th>\n",
       "      <td>18</td>\n",
       "      <td>652</td>\n",
       "      <td>32.60</td>\n",
       "      <td>Week</td>\n",
       "    </tr>\n",
       "    <tr>\n",
       "      <th>19</th>\n",
       "      <td>19</td>\n",
       "      <td>588</td>\n",
       "      <td>29.40</td>\n",
       "      <td>Week</td>\n",
       "    </tr>\n",
       "    <tr>\n",
       "      <th>20</th>\n",
       "      <td>20</td>\n",
       "      <td>557</td>\n",
       "      <td>27.85</td>\n",
       "      <td>Week</td>\n",
       "    </tr>\n",
       "    <tr>\n",
       "      <th>21</th>\n",
       "      <td>21</td>\n",
       "      <td>468</td>\n",
       "      <td>23.40</td>\n",
       "      <td>Week</td>\n",
       "    </tr>\n",
       "    <tr>\n",
       "      <th>22</th>\n",
       "      <td>22</td>\n",
       "      <td>482</td>\n",
       "      <td>24.10</td>\n",
       "      <td>Week</td>\n",
       "    </tr>\n",
       "    <tr>\n",
       "      <th>23</th>\n",
       "      <td>23</td>\n",
       "      <td>473</td>\n",
       "      <td>23.65</td>\n",
       "      <td>Week</td>\n",
       "    </tr>\n",
       "    <tr>\n",
       "      <th>24</th>\n",
       "      <td>24</td>\n",
       "      <td>399</td>\n",
       "      <td>19.95</td>\n",
       "      <td>Week</td>\n",
       "    </tr>\n",
       "    <tr>\n",
       "      <th>25</th>\n",
       "      <td>25</td>\n",
       "      <td>351</td>\n",
       "      <td>17.55</td>\n",
       "      <td>Week</td>\n",
       "    </tr>\n",
       "    <tr>\n",
       "      <th>26</th>\n",
       "      <td>26</td>\n",
       "      <td>347</td>\n",
       "      <td>17.35</td>\n",
       "      <td>Week</td>\n",
       "    </tr>\n",
       "    <tr>\n",
       "      <th>27</th>\n",
       "      <td>27</td>\n",
       "      <td>307</td>\n",
       "      <td>15.35</td>\n",
       "      <td>Week</td>\n",
       "    </tr>\n",
       "    <tr>\n",
       "      <th>28</th>\n",
       "      <td>28</td>\n",
       "      <td>265</td>\n",
       "      <td>13.25</td>\n",
       "      <td>Week</td>\n",
       "    </tr>\n",
       "    <tr>\n",
       "      <th>29</th>\n",
       "      <td>29</td>\n",
       "      <td>252</td>\n",
       "      <td>12.60</td>\n",
       "      <td>Week</td>\n",
       "    </tr>\n",
       "  </tbody>\n",
       "</table>\n",
       "</div>"
      ],
      "text/plain": [
       "    week  unique_users  retention period\n",
       "0      0          2000     100.00   Week\n",
       "1      1          1812      90.60   Week\n",
       "2      2          1660      83.00   Week\n",
       "3      3          1476      73.80   Week\n",
       "4      4          1395      69.75   Week\n",
       "5      5          1344      67.20   Week\n",
       "6      6          1339      66.95   Week\n",
       "7      7          1264      63.20   Week\n",
       "8      8          1205      60.25   Week\n",
       "9      9          1143      57.15   Week\n",
       "10    10          1078      53.90   Week\n",
       "11    11          1026      51.30   Week\n",
       "12    12           943      47.15   Week\n",
       "13    13           928      46.40   Week\n",
       "14    14           854      42.70   Week\n",
       "15    15           797      39.85   Week\n",
       "16    16           751      37.55   Week\n",
       "17    17           715      35.75   Week\n",
       "18    18           652      32.60   Week\n",
       "19    19           588      29.40   Week\n",
       "20    20           557      27.85   Week\n",
       "21    21           468      23.40   Week\n",
       "22    22           482      24.10   Week\n",
       "23    23           473      23.65   Week\n",
       "24    24           399      19.95   Week\n",
       "25    25           351      17.55   Week\n",
       "26    26           347      17.35   Week\n",
       "27    27           307      15.35   Week\n",
       "28    28           265      13.25   Week\n",
       "29    29           252      12.60   Week"
      ]
     },
     "metadata": {},
     "output_type": "display_data"
    },
    {
     "name": "stdout",
     "output_type": "stream",
     "text": [
      "retention: 14.5975\n"
     ]
    }
   ],
   "source": [
    "# --- подготовка данных ---\n",
    "users_filter = users_sleepy.loc[:, ['user', 'dt']]\n",
    "users_filter['dt'] = pd.to_datetime(users_filter['dt'], format='%d.%m.%Y')\n",
    "users_filter['month_start'] = users_filter['dt'].dt.to_period('M').dt.to_timestamp()\n",
    "users_filter['dt_reg'] = users_filter.groupby('user')['dt'].transform('min')\n",
    "users_filter['diff'] = (users_filter['dt'] - users_filter['dt_reg']).dt.days\n",
    "users_filter['week'] = round(users_filter['diff'] / 7, 0)\n",
    "users_filter['month'] = round(users_filter['diff'] / 30, 0)\n",
    "\n",
    "\n",
    "# --- считаем общее количество пользователей ---\n",
    "all_users = users_filter['user'].nunique()\n",
    "\n",
    "# --- retention по разным периодам ---\n",
    "users_filter['N_DAY_retention']   = users_filter.groupby('diff')['user'].transform('nunique') / all_users * 100\n",
    "users_filter['N_WEEK_retention']  = users_filter.groupby('week')['user'].transform('nunique') / all_users * 100\n",
    "users_filter['N_MONTH_retention'] = users_filter.groupby('month')['user'].transform('nunique') / all_users * 100\n",
    "\n",
    "\n",
    "# 🔹🔹🔹 Универсальная переменная для переключения периода 🔹🔹🔹\n",
    "period = 'week'     # варианты: 'day', 'week', 'month'\n",
    "\n",
    "\n",
    "# --- выбираем колонку и подписи в зависимости от периода ---\n",
    "if period == 'day':\n",
    "    idx_col = 'diff'\n",
    "    period_name = 'Day'\n",
    "elif period == 'week':\n",
    "    idx_col = 'week'\n",
    "    period_name = 'Week'\n",
    "elif period == 'month':\n",
    "    idx_col = 'month'\n",
    "    period_name = 'Month'\n",
    "else:\n",
    "    raise ValueError(\"period must be 'day', 'week', or 'month'\")\n",
    "\n",
    "\n",
    "# --- создаем универсальный pivot ---\n",
    "pivot = (\n",
    "    users_filter\n",
    "    .groupby(idx_col, as_index=False)['user']\n",
    "    .nunique()\n",
    "    .rename(columns={'user': 'unique_users'})\n",
    ")\n",
    "\n",
    "pivot['retention'] = pivot['unique_users'] / all_users * 100\n",
    "pivot['period'] = period_name  # добавляем столбец для понятного вывода\n",
    "\n",
    "# --- создаем полный диапазон индексов ---\n",
    "full_range = pd.DataFrame({idx_col: range(int(pivot[idx_col].min()), int(pivot[idx_col].max()) + 1)})\n",
    "pivot_full = full_range.merge(pivot, on=idx_col, how='left')\n",
    "\n",
    "# --- вывод ---\n",
    "print(f\"Retention by {period_name}\")\n",
    "display(pivot_full.head(30))\n",
    "print(f'retention: {pivot_full['retention'].sum() / 100}')"
   ]
  },
  {
   "cell_type": "code",
   "execution_count": 7,
   "id": "9ed7b6bd-a8c3-4cae-be7a-6563b1abb144",
   "metadata": {},
   "outputs": [
    {
     "ename": "AttributeError",
     "evalue": "'Series' object has no attribute 'query'",
     "output_type": "error",
     "traceback": [
      "\u001b[1;31m---------------------------------------------------------------------------\u001b[0m",
      "\u001b[1;31mAttributeError\u001b[0m                            Traceback (most recent call last)",
      "\u001b[1;32m~\\AppData\\Local\\Temp\\ipykernel_11020\\773641262.py\u001b[0m in \u001b[0;36m?\u001b[1;34m()\u001b[0m\n\u001b[1;32m----> 1\u001b[1;33m \u001b[0musers_filter\u001b[0m\u001b[1;33m.\u001b[0m\u001b[0mgroupby\u001b[0m\u001b[1;33m(\u001b[0m\u001b[1;34m'diff'\u001b[0m\u001b[1;33m)\u001b[0m\u001b[1;33m[\u001b[0m\u001b[1;34m'user'\u001b[0m\u001b[1;33m]\u001b[0m\u001b[1;33m.\u001b[0m\u001b[0mnunique\u001b[0m\u001b[1;33m(\u001b[0m\u001b[1;33m)\u001b[0m\u001b[1;33m.\u001b[0m\u001b[0mquery\u001b[0m\u001b[1;33m(\u001b[0m\u001b[1;34m'14 < diff < 15'\u001b[0m\u001b[1;33m)\u001b[0m\u001b[1;33m\u001b[0m\u001b[1;33m\u001b[0m\u001b[0m\n\u001b[0m\u001b[0;32m      2\u001b[0m \u001b[1;31m# pivot_full.query('13 < diff < 16')['unique_users'].nunique\u001b[0m\u001b[1;33m\u001b[0m\u001b[1;33m\u001b[0m\u001b[0m\n",
      "\u001b[1;32m~\\anaconda3\\Lib\\site-packages\\pandas\\core\\generic.py\u001b[0m in \u001b[0;36m?\u001b[1;34m(self, name)\u001b[0m\n\u001b[0;32m   6295\u001b[0m             \u001b[1;32mand\u001b[0m \u001b[0mname\u001b[0m \u001b[1;32mnot\u001b[0m \u001b[1;32min\u001b[0m \u001b[0mself\u001b[0m\u001b[1;33m.\u001b[0m\u001b[0m_accessors\u001b[0m\u001b[1;33m\u001b[0m\u001b[1;33m\u001b[0m\u001b[0m\n\u001b[0;32m   6296\u001b[0m             \u001b[1;32mand\u001b[0m \u001b[0mself\u001b[0m\u001b[1;33m.\u001b[0m\u001b[0m_info_axis\u001b[0m\u001b[1;33m.\u001b[0m\u001b[0m_can_hold_identifiers_and_holds_name\u001b[0m\u001b[1;33m(\u001b[0m\u001b[0mname\u001b[0m\u001b[1;33m)\u001b[0m\u001b[1;33m\u001b[0m\u001b[1;33m\u001b[0m\u001b[0m\n\u001b[0;32m   6297\u001b[0m         \u001b[1;33m)\u001b[0m\u001b[1;33m:\u001b[0m\u001b[1;33m\u001b[0m\u001b[1;33m\u001b[0m\u001b[0m\n\u001b[0;32m   6298\u001b[0m             \u001b[1;32mreturn\u001b[0m \u001b[0mself\u001b[0m\u001b[1;33m[\u001b[0m\u001b[0mname\u001b[0m\u001b[1;33m]\u001b[0m\u001b[1;33m\u001b[0m\u001b[1;33m\u001b[0m\u001b[0m\n\u001b[1;32m-> 6299\u001b[1;33m         \u001b[1;32mreturn\u001b[0m \u001b[0mobject\u001b[0m\u001b[1;33m.\u001b[0m\u001b[0m__getattribute__\u001b[0m\u001b[1;33m(\u001b[0m\u001b[0mself\u001b[0m\u001b[1;33m,\u001b[0m \u001b[0mname\u001b[0m\u001b[1;33m)\u001b[0m\u001b[1;33m\u001b[0m\u001b[1;33m\u001b[0m\u001b[0m\n\u001b[0m",
      "\u001b[1;31mAttributeError\u001b[0m: 'Series' object has no attribute 'query'"
     ]
    }
   ],
   "source": [
    "users_filter.groupby('diff')['user'].nunique().query('14 < diff < 15')\n",
    "# pivot_full.query('13 < diff < 16')['unique_users'].nunique"
   ]
  },
  {
   "cell_type": "code",
   "execution_count": null,
   "id": "3673f563-1394-4952-a8af-53700414b4b8",
   "metadata": {},
   "outputs": [],
   "source": [
    "# 25 minutes\n",
    "users_filter.sort_values(by='dt', ascending=True).head(20)"
   ]
  },
  {
   "cell_type": "code",
   "execution_count": null,
   "id": "7339cfbb-cc4c-4cfe-815c-59e472807a74",
   "metadata": {},
   "outputs": [],
   "source": [
    "# среднее MAU за весь период\n",
    "user_in_month = users_filter.groupby('month_start')['user'].nunique().reset_index(name='unique_users')\n",
    "average_mau = user_in_month['unique_users'].mean()\n",
    "average_mau"
   ]
  },
  {
   "cell_type": "code",
   "execution_count": null,
   "id": "376ddb07-cc39-4d3c-a97c-2e38e51dd0ba",
   "metadata": {},
   "outputs": [],
   "source": [
    "# среднее DAU за весь период\n",
    "\n",
    "# --- считаем количество уникальных пользователей по каждой дате ---\n",
    "user_in_day = (\n",
    "    users_filter.groupby('dt')['user']\n",
    "    .nunique()\n",
    "    .reset_index(name='unique_users')\n",
    ")\n",
    "# --- создаем полный список дат ---\n",
    "\n",
    "full_dates = pd.DataFrame({\n",
    "    'dt': pd.date_range(users_filter['dt'].min(), users_filter['dt'].max())\n",
    "})\n",
    "# --- добавляем пропущенные даты ---\n",
    "user_in_day_full = (\n",
    "    full_dates\n",
    "    .merge(user_in_day, on='dt', how='left')\n",
    "    .fillna({'unique_users': 0})  # ставим 0, если в этот день нет пользователей\n",
    ")\n",
    "# --- считаем среднее DAU ---\n",
    "average_dau = user_in_day_full['unique_users'].mean()\n",
    "average_dau"
   ]
  },
  {
   "cell_type": "code",
   "execution_count": null,
   "id": "2d08dd9a-9a3b-4cd4-b317-1d882f8f734d",
   "metadata": {},
   "outputs": [],
   "source": [
    "# Sticky_factor\n",
    "print(f'average_DAU: {round(average_dau, 1)}')\n",
    "print(f'average_MAU: {round(average_mau, 1)}')\n",
    "print()\n",
    "print(f'Sticky_factor: {average_dau / average_mau * 100}')"
   ]
  },
  {
   "cell_type": "code",
   "execution_count": null,
   "id": "b67b048b-ccfe-46f2-8d80-1c70de726c3d",
   "metadata": {},
   "outputs": [],
   "source": [
    "# Во сколько раз LT методом усреднения разницы между \n",
    "# максимальным и минимальным заходом каждого пользователя \n",
    "# больше LT методом классического n-day retention (считаем в днях). 26\n",
    "# Ответ округлите в меньшую сторону."
   ]
  },
  {
   "cell_type": "code",
   "execution_count": null,
   "id": "84f475b4-6e4c-4300-af22-c932153947d1",
   "metadata": {},
   "outputs": [],
   "source": [
    "n_day_retention = pivot_full['retention'].sum() / 100\n",
    "print(f'retention: {n_day_retention}')"
   ]
  },
  {
   "cell_type": "code",
   "execution_count": null,
   "id": "92325c10-b534-417f-9c6f-16f73930c68d",
   "metadata": {},
   "outputs": [],
   "source": [
    "# --- рассчитываем LT (Lifetime) ---\n",
    "lt_per_user = (\n",
    "    users_filter.groupby('user')['dt']\n",
    "    .agg(['min', 'max'])              # находим первую и последнюю дату активности\n",
    "    .assign(lifetime=lambda x: (x['max'] - x['min']).dt.days)  # разница в днях\n",
    ")\n",
    "\n",
    "# среднее \"время жизни\" пользователя\n",
    "LT = lt_per_user['lifetime'].mean()\n",
    "\n",
    "print(f\"Средний LT (lifetime): {LT:.2f} дней\")"
   ]
  },
  {
   "cell_type": "code",
   "execution_count": null,
   "id": "88b66c4c-f550-4c8a-9ee8-cc3c3b65b771",
   "metadata": {},
   "outputs": [],
   "source": [
    "LT / n_day_retention"
   ]
  },
  {
   "cell_type": "code",
   "execution_count": null,
   "id": "f34b3ec1-7941-4bfa-9693-ab02cd3e32e5",
   "metadata": {},
   "outputs": [],
   "source": [
    "# Посчитайте MAU каждого месяца на основании календарных месяцев. \n",
    "# В какой месяц была самая высокая пользовательская активность? \n",
    "# Ответ дайте в формате YYYY-MM, например, 2024-07."
   ]
  },
  {
   "cell_type": "code",
   "execution_count": null,
   "id": "d35ec3be-0934-45ce-afb6-4d3434a191b4",
   "metadata": {},
   "outputs": [],
   "source": [
    "# --- считаем уникальных пользователей по месяцам ---\n",
    "pivot = (\n",
    "    users_filter\n",
    "    .groupby('month_start', as_index=False)['user']\n",
    "    .nunique()\n",
    "    .rename(columns={'user': 'unique_users'})\n",
    ")\n",
    "\n",
    "# --- считаем retention ---\n",
    "pivot['retention'] = pivot['unique_users'] / all_users * 100\n",
    "pivot['period'] = 'Month'  # или period_name, если он у тебя есть выше\n",
    "\n",
    "# --- добавляем колонку YYYY-MM ---\n",
    "pivot['year_month'] = pivot['month_start'].dt.strftime('%Y-%m')\n",
    "\n",
    "# --- создаем полный диапазон месяцев ---\n",
    "full_range = pd.DataFrame({\n",
    "    'month_start': pd.date_range(\n",
    "        users_filter['month_start'].min(),\n",
    "        users_filter['month_start'].max(),\n",
    "        freq='MS'  # начало каждого месяца\n",
    "    )\n",
    "})\n",
    "\n",
    "# --- объединяем с pivot, чтобы добавить пропущенные месяцы ---\n",
    "pivot_full = full_range.merge(pivot, on='month_start', how='left')\n",
    "\n",
    "# --- финальный вывод ---\n",
    "pivot_full.sort_values(by='unique_users', ascending=False).head(20)"
   ]
  },
  {
   "cell_type": "code",
   "execution_count": null,
   "id": "b731a67f-55e8-45a1-9a14-bbe03dc9f525",
   "metadata": {},
   "outputs": [],
   "source": [
    "users_filter.head(10)"
   ]
  },
  {
   "cell_type": "code",
   "execution_count": null,
   "id": "f88f959f-df90-4573-8dee-38cebc7c722c",
   "metadata": {},
   "outputs": [],
   "source": [
    "\n",
    "fig, ax1 = plt.subplots(figsize=(9, 5))\n",
    "\n",
    "# --- Первая ось: Retention ---\n",
    "color = 'tab:blue'\n",
    "ax1.set_xlabel(f'{period_name} after registration')\n",
    "ax1.set_ylabel('Retention, %', color=color)\n",
    "ax1.plot(pivot_full[idx_col], pivot_full['retention'], color=color, marker='o', linewidth=2, label='Retention %')\n",
    "ax1.tick_params(axis='y', labelcolor=color)\n",
    "ax1.grid(True, which='major', axis='both', linestyle='--', alpha=0.5)\n",
    "\n",
    "# --- Вторая ось: количество уникальных пользователей ---\n",
    "ax2 = ax1.twinx()  # создаём вторую ось Y\n",
    "color = 'tab:orange'\n",
    "ax2.set_ylabel('Unique users', color=color)\n",
    "ax2.bar(pivot_full[idx_col], pivot_full['unique_users'], color=color, alpha=0.3, label='Unique users')\n",
    "ax2.tick_params(axis='y', labelcolor=color)\n",
    "\n",
    "# --- Заголовок и оформление ---\n",
    "plt.title(f'Retention and Unique Users by {period_name}')\n",
    "fig.tight_layout()\n",
    "plt.show()"
   ]
  },
  {
   "cell_type": "code",
   "execution_count": null,
   "id": "af52df5a-5855-470a-a287-ea2797499d2c",
   "metadata": {},
   "outputs": [],
   "source": [
    "6 * 990"
   ]
  },
  {
   "cell_type": "code",
   "execution_count": null,
   "id": "5e0928cd-13f0-497d-8f8e-c565878344d7",
   "metadata": {},
   "outputs": [],
   "source": [
    "users_filter"
   ]
  },
  {
   "cell_type": "code",
   "execution_count": null,
   "id": "8d419d65-f39a-482c-8a19-961c94155961",
   "metadata": {},
   "outputs": [],
   "source": [
    "# users_filter['month'] = round(users_filter['diff'] / 30, 0)\n",
    "# users_filter['week'] = round(users_filter['diff'] / 7, 0)\n",
    "users_filter"
   ]
  },
  {
   "cell_type": "code",
   "execution_count": null,
   "id": "60aa9dd0-daf1-46c8-8364-ceb8336e3d81",
   "metadata": {},
   "outputs": [],
   "source": [
    "print(f'count of month: {users_filter['month'].sum() / 100}')\n",
    "print(f'count of week: {users_filter['week'].sum() / 100}')"
   ]
  },
  {
   "cell_type": "code",
   "execution_count": null,
   "id": "49118b1a-c107-422e-9fd0-ed0e3ddbcebc",
   "metadata": {},
   "outputs": [],
   "source": [
    "# count users paying\n",
    "cpu = users_filter.query('diff >= 14')['user'].nunique()\n",
    "print(f'количество людей купивших подписку : {cpu}')\n",
    "print()\n",
    "price_all_users = all_users * 500\n",
    "net_profit = cpu * 990 - price_all_users\n",
    "print(f'стоимость привлечения за всех пользователей {price_all_users}')\n",
    "print()\n",
    "print(f'выручка за все проданные подписки: {cpu * 990}')\n",
    "print()\n",
    "print(f'чистая прибыль с учетом затратов: {net_profit}')\n",
    "print(f'CPU: {users_filter.query(' 17 > diff >= 14')['user'].nunique()}')"
   ]
  }
 ],
 "metadata": {
  "kernelspec": {
   "display_name": "Python 3 (ipykernel)",
   "language": "python",
   "name": "python3"
  },
  "language_info": {
   "codemirror_mode": {
    "name": "ipython",
    "version": 3
   },
   "file_extension": ".py",
   "mimetype": "text/x-python",
   "name": "python",
   "nbconvert_exporter": "python",
   "pygments_lexer": "ipython3",
   "version": "3.12.7"
  }
 },
 "nbformat": 4,
 "nbformat_minor": 5
}
