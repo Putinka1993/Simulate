{
 "cells": [
  {
   "cell_type": "code",
   "execution_count": 49,
   "id": "5ae5cd8f-0dfb-4841-8332-9e9df0ab5dcb",
   "metadata": {},
   "outputs": [],
   "source": [
    "import pandas as pd\n",
    "import math"
   ]
  },
  {
   "cell_type": "code",
   "execution_count": 53,
   "id": "49edd03e-a0ed-4ccb-9f8a-0dbc7b027d35",
   "metadata": {},
   "outputs": [],
   "source": [
    "users_sleepy = pd.read_csv(r'C:\\Users\\Incognitus\\Downloads\\entries.csv', sep=';')"
   ]
  },
  {
   "cell_type": "code",
   "execution_count": 54,
   "id": "4e4b6240-1ac9-4aac-8967-2f29344483ff",
   "metadata": {},
   "outputs": [
    {
     "data": {
      "text/html": [
       "<div>\n",
       "<style scoped>\n",
       "    .dataframe tbody tr th:only-of-type {\n",
       "        vertical-align: middle;\n",
       "    }\n",
       "\n",
       "    .dataframe tbody tr th {\n",
       "        vertical-align: top;\n",
       "    }\n",
       "\n",
       "    .dataframe thead th {\n",
       "        text-align: right;\n",
       "    }\n",
       "</style>\n",
       "<table border=\"1\" class=\"dataframe\">\n",
       "  <thead>\n",
       "    <tr style=\"text-align: right;\">\n",
       "      <th></th>\n",
       "      <th>user</th>\n",
       "      <th>dt</th>\n",
       "      <th>Unnamed: 2</th>\n",
       "    </tr>\n",
       "  </thead>\n",
       "  <tbody>\n",
       "    <tr>\n",
       "      <th>0</th>\n",
       "      <td>0</td>\n",
       "      <td>12.11.2023</td>\n",
       "      <td>NaN</td>\n",
       "    </tr>\n",
       "    <tr>\n",
       "      <th>1</th>\n",
       "      <td>0</td>\n",
       "      <td>13.11.2023</td>\n",
       "      <td>NaN</td>\n",
       "    </tr>\n",
       "    <tr>\n",
       "      <th>2</th>\n",
       "      <td>0</td>\n",
       "      <td>14.11.2023</td>\n",
       "      <td>NaN</td>\n",
       "    </tr>\n",
       "    <tr>\n",
       "      <th>3</th>\n",
       "      <td>0</td>\n",
       "      <td>16.11.2023</td>\n",
       "      <td>NaN</td>\n",
       "    </tr>\n",
       "    <tr>\n",
       "      <th>4</th>\n",
       "      <td>0</td>\n",
       "      <td>17.11.2023</td>\n",
       "      <td>NaN</td>\n",
       "    </tr>\n",
       "    <tr>\n",
       "      <th>...</th>\n",
       "      <td>...</td>\n",
       "      <td>...</td>\n",
       "      <td>...</td>\n",
       "    </tr>\n",
       "    <tr>\n",
       "      <th>52320</th>\n",
       "      <td>1998</td>\n",
       "      <td>26.12.2023</td>\n",
       "      <td>NaN</td>\n",
       "    </tr>\n",
       "    <tr>\n",
       "      <th>52321</th>\n",
       "      <td>1998</td>\n",
       "      <td>18.06.2024</td>\n",
       "      <td>NaN</td>\n",
       "    </tr>\n",
       "    <tr>\n",
       "      <th>52322</th>\n",
       "      <td>1999</td>\n",
       "      <td>04.06.2023</td>\n",
       "      <td>NaN</td>\n",
       "    </tr>\n",
       "    <tr>\n",
       "      <th>52323</th>\n",
       "      <td>1999</td>\n",
       "      <td>14.07.2023</td>\n",
       "      <td>NaN</td>\n",
       "    </tr>\n",
       "    <tr>\n",
       "      <th>52324</th>\n",
       "      <td>1999</td>\n",
       "      <td>04.08.2023</td>\n",
       "      <td>NaN</td>\n",
       "    </tr>\n",
       "  </tbody>\n",
       "</table>\n",
       "<p>52325 rows × 3 columns</p>\n",
       "</div>"
      ],
      "text/plain": [
       "       user          dt  Unnamed: 2\n",
       "0         0  12.11.2023         NaN\n",
       "1         0  13.11.2023         NaN\n",
       "2         0  14.11.2023         NaN\n",
       "3         0  16.11.2023         NaN\n",
       "4         0  17.11.2023         NaN\n",
       "...     ...         ...         ...\n",
       "52320  1998  26.12.2023         NaN\n",
       "52321  1998  18.06.2024         NaN\n",
       "52322  1999  04.06.2023         NaN\n",
       "52323  1999  14.07.2023         NaN\n",
       "52324  1999  04.08.2023         NaN\n",
       "\n",
       "[52325 rows x 3 columns]"
      ]
     },
     "execution_count": 54,
     "metadata": {},
     "output_type": "execute_result"
    }
   ],
   "source": [
    "users_sleepy"
   ]
  },
  {
   "cell_type": "code",
   "execution_count": 55,
   "id": "5fd21c2e-9bfe-4d85-8096-9625c1c84f1e",
   "metadata": {},
   "outputs": [],
   "source": [
    "users_filter = users_sleepy.loc[:, ['user', 'dt']]"
   ]
  },
  {
   "cell_type": "code",
   "execution_count": 56,
   "id": "03f3b369-1c08-4b51-aded-845ac607d3a4",
   "metadata": {},
   "outputs": [
    {
     "data": {
      "text/html": [
       "<div>\n",
       "<style scoped>\n",
       "    .dataframe tbody tr th:only-of-type {\n",
       "        vertical-align: middle;\n",
       "    }\n",
       "\n",
       "    .dataframe tbody tr th {\n",
       "        vertical-align: top;\n",
       "    }\n",
       "\n",
       "    .dataframe thead th {\n",
       "        text-align: right;\n",
       "    }\n",
       "</style>\n",
       "<table border=\"1\" class=\"dataframe\">\n",
       "  <thead>\n",
       "    <tr style=\"text-align: right;\">\n",
       "      <th></th>\n",
       "      <th>user</th>\n",
       "      <th>dt</th>\n",
       "    </tr>\n",
       "  </thead>\n",
       "  <tbody>\n",
       "    <tr>\n",
       "      <th>0</th>\n",
       "      <td>0</td>\n",
       "      <td>12.11.2023</td>\n",
       "    </tr>\n",
       "    <tr>\n",
       "      <th>1</th>\n",
       "      <td>0</td>\n",
       "      <td>13.11.2023</td>\n",
       "    </tr>\n",
       "    <tr>\n",
       "      <th>2</th>\n",
       "      <td>0</td>\n",
       "      <td>14.11.2023</td>\n",
       "    </tr>\n",
       "    <tr>\n",
       "      <th>3</th>\n",
       "      <td>0</td>\n",
       "      <td>16.11.2023</td>\n",
       "    </tr>\n",
       "    <tr>\n",
       "      <th>4</th>\n",
       "      <td>0</td>\n",
       "      <td>17.11.2023</td>\n",
       "    </tr>\n",
       "  </tbody>\n",
       "</table>\n",
       "</div>"
      ],
      "text/plain": [
       "   user          dt\n",
       "0     0  12.11.2023\n",
       "1     0  13.11.2023\n",
       "2     0  14.11.2023\n",
       "3     0  16.11.2023\n",
       "4     0  17.11.2023"
      ]
     },
     "execution_count": 56,
     "metadata": {},
     "output_type": "execute_result"
    }
   ],
   "source": [
    "users_filter.head(5)"
   ]
  },
  {
   "cell_type": "code",
   "execution_count": 57,
   "id": "959b08de-8a6b-44ff-a905-4b8862758cd2",
   "metadata": {},
   "outputs": [
    {
     "data": {
      "text/html": [
       "<div>\n",
       "<style scoped>\n",
       "    .dataframe tbody tr th:only-of-type {\n",
       "        vertical-align: middle;\n",
       "    }\n",
       "\n",
       "    .dataframe tbody tr th {\n",
       "        vertical-align: top;\n",
       "    }\n",
       "\n",
       "    .dataframe thead th {\n",
       "        text-align: right;\n",
       "    }\n",
       "</style>\n",
       "<table border=\"1\" class=\"dataframe\">\n",
       "  <thead>\n",
       "    <tr style=\"text-align: right;\">\n",
       "      <th></th>\n",
       "      <th>user</th>\n",
       "      <th>count_day_use</th>\n",
       "    </tr>\n",
       "  </thead>\n",
       "  <tbody>\n",
       "    <tr>\n",
       "      <th>0</th>\n",
       "      <td>0</td>\n",
       "      <td>39</td>\n",
       "    </tr>\n",
       "    <tr>\n",
       "      <th>1</th>\n",
       "      <td>1</td>\n",
       "      <td>42</td>\n",
       "    </tr>\n",
       "    <tr>\n",
       "      <th>2</th>\n",
       "      <td>2</td>\n",
       "      <td>27</td>\n",
       "    </tr>\n",
       "    <tr>\n",
       "      <th>3</th>\n",
       "      <td>3</td>\n",
       "      <td>20</td>\n",
       "    </tr>\n",
       "    <tr>\n",
       "      <th>4</th>\n",
       "      <td>4</td>\n",
       "      <td>41</td>\n",
       "    </tr>\n",
       "  </tbody>\n",
       "</table>\n",
       "</div>"
      ],
      "text/plain": [
       "   user  count_day_use\n",
       "0     0             39\n",
       "1     1             42\n",
       "2     2             27\n",
       "3     3             20\n",
       "4     4             41"
      ]
     },
     "execution_count": 57,
     "metadata": {},
     "output_type": "execute_result"
    }
   ],
   "source": [
    "count_day_use_app = users_filter.groupby('user')['dt'].count().reset_index()\n",
    "count_day_use_app.columns = ['user', 'count_day_use']\n",
    "count_day_use_app.head(5)"
   ]
  },
  {
   "cell_type": "code",
   "execution_count": 50,
   "id": "e2899e76-ea6e-45d4-96d0-84893fe826e2",
   "metadata": {},
   "outputs": [
    {
     "ename": "TypeError",
     "evalue": "cannot convert the series to <class 'float'>",
     "output_type": "error",
     "traceback": [
      "\u001b[1;31m---------------------------------------------------------------------------\u001b[0m",
      "\u001b[1;31mTypeError\u001b[0m                                 Traceback (most recent call last)",
      "Cell \u001b[1;32mIn[50], line 8\u001b[0m\n\u001b[0;32m      5\u001b[0m retention_day_x \u001b[38;5;241m=\u001b[39m day_x \u001b[38;5;241m/\u001b[39m all_users \u001b[38;5;241m*\u001b[39m \u001b[38;5;241m100\u001b[39m\n\u001b[0;32m      6\u001b[0m retention_day_14 \u001b[38;5;241m=\u001b[39m day_14 \u001b[38;5;241m/\u001b[39m all_users \u001b[38;5;241m*\u001b[39m \u001b[38;5;241m100\u001b[39m\n\u001b[1;32m----> 8\u001b[0m \u001b[38;5;28mprint\u001b[39m(math\u001b[38;5;241m.\u001b[39mceil(\u001b[38;5;28mabs\u001b[39m(retention_day_14 \u001b[38;5;241m-\u001b[39m retention_day_x)))\n\u001b[0;32m      9\u001b[0m \u001b[38;5;28mprint\u001b[39m()\n\u001b[0;32m     10\u001b[0m \u001b[38;5;28mprint\u001b[39m(count_day_use_app[\u001b[38;5;124m'\u001b[39m\u001b[38;5;124mcount_day_use\u001b[39m\u001b[38;5;124m'\u001b[39m]\u001b[38;5;241m.\u001b[39mcount())\n",
      "File \u001b[1;32m~\\anaconda3\\Lib\\site-packages\\pandas\\core\\series.py:248\u001b[0m, in \u001b[0;36m_coerce_method.<locals>.wrapper\u001b[1;34m(self)\u001b[0m\n\u001b[0;32m    240\u001b[0m     warnings\u001b[38;5;241m.\u001b[39mwarn(\n\u001b[0;32m    241\u001b[0m         \u001b[38;5;124mf\u001b[39m\u001b[38;5;124m\"\u001b[39m\u001b[38;5;124mCalling \u001b[39m\u001b[38;5;132;01m{\u001b[39;00mconverter\u001b[38;5;241m.\u001b[39m\u001b[38;5;18m__name__\u001b[39m\u001b[38;5;132;01m}\u001b[39;00m\u001b[38;5;124m on a single element Series is \u001b[39m\u001b[38;5;124m\"\u001b[39m\n\u001b[0;32m    242\u001b[0m         \u001b[38;5;124m\"\u001b[39m\u001b[38;5;124mdeprecated and will raise a TypeError in the future. \u001b[39m\u001b[38;5;124m\"\u001b[39m\n\u001b[1;32m   (...)\u001b[0m\n\u001b[0;32m    245\u001b[0m         stacklevel\u001b[38;5;241m=\u001b[39mfind_stack_level(),\n\u001b[0;32m    246\u001b[0m     )\n\u001b[0;32m    247\u001b[0m     \u001b[38;5;28;01mreturn\u001b[39;00m converter(\u001b[38;5;28mself\u001b[39m\u001b[38;5;241m.\u001b[39miloc[\u001b[38;5;241m0\u001b[39m])\n\u001b[1;32m--> 248\u001b[0m \u001b[38;5;28;01mraise\u001b[39;00m \u001b[38;5;167;01mTypeError\u001b[39;00m(\u001b[38;5;124mf\u001b[39m\u001b[38;5;124m\"\u001b[39m\u001b[38;5;124mcannot convert the series to \u001b[39m\u001b[38;5;132;01m{\u001b[39;00mconverter\u001b[38;5;132;01m}\u001b[39;00m\u001b[38;5;124m\"\u001b[39m)\n",
      "\u001b[1;31mTypeError\u001b[0m: cannot convert the series to <class 'float'>"
     ]
    }
   ],
   "source": [
    "all_users = count_day_use_app['count_day_use'].count()\n",
    "day_x = count_day_use_app.query('count_day_use > 14').count()\n",
    "day_14 = count_day_use_app.query('count_day_use == 14').count()\n",
    "\n",
    "retention_day_x = day_x / all_users * 100\n",
    "retention_day_14 = day_14 / all_users * 100\n",
    "\n",
    "print(math.ceil(abs(retention_day_14 - retention_day_x)))\n",
    "print()\n",
    "print(count_day_use_app['count_day_use'].count())\n",
    "print(count_day_use_app.query('count_day_use < 15').count())\n",
    "print(count_day_use_app.query('count_day_use > 14').count())"
   ]
  },
  {
   "cell_type": "code",
   "execution_count": 58,
   "id": "f250e973-124b-4dd4-a88c-9045a2aa527d",
   "metadata": {},
   "outputs": [
    {
     "name": "stdout",
     "output_type": "stream",
     "text": [
      "2\n"
     ]
    }
   ],
   "source": [
    "all_users = count_day_use_app['count_day_use'].count()\n",
    "day_x = count_day_use_app.query('count_day_use > 14').shape[0]\n",
    "day_14 = count_day_use_app.query('count_day_use >= 14').shape[0]\n",
    "\n",
    "retention_day_x = day_x / all_users * 100\n",
    "retention_day_14 = day_14 / all_users * 100\n",
    "\n",
    "print(math.ceil(abs(retention_day_14 - retention_day_x)))"
   ]
  },
  {
   "cell_type": "code",
   "execution_count": 62,
   "id": "709e0cae-26a9-42ac-a9f0-d6b6e36d8d46",
   "metadata": {},
   "outputs": [
    {
     "name": "stdout",
     "output_type": "stream",
     "text": [
      "-56\n"
     ]
    }
   ],
   "source": [
    "import pandas as pd\n",
    "import math\n",
    "\n",
    "# Чтение данных\n",
    "users_sleepy = pd.read_csv(r'C:\\Users\\Incognitus\\Downloads\\entries.csv', sep=';')\n",
    "users_filter = users_sleepy.loc[:, ['user', 'dt']]\n",
    "\n",
    "# Преобразуем dt в datetime\n",
    "users_filter['dt'] = pd.to_datetime(users_filter['dt'], dayfirst=True)\n",
    "\n",
    "# Находим первый день захода пользователя\n",
    "first_day = users_filter.groupby('user')['dt'].min().reset_index()\n",
    "first_day.columns = ['user', 'first_day']\n",
    "\n",
    "# Объединяем с исходными заходами\n",
    "df = users_filter.merge(first_day, on='user')\n",
    "\n",
    "# Считаем день с момента первого захода\n",
    "df['day_since_first'] = (df['dt'] - df['first_day']).dt.days + 1\n",
    "\n",
    "# Количество уникальных пользователей\n",
    "all_users = df['user'].nunique()\n",
    "\n",
    "# Retention на 14-й день\n",
    "day_14_retention = df[df['day_since_first'] == 14]['user'].nunique()\n",
    "\n",
    "# Retention после 14-го дня (только платящие пользователи)\n",
    "day_after_retention = df[df['day_since_first'] > 14]['user'].nunique()\n",
    "\n",
    "# Переводим в проценты\n",
    "retention_14 = day_14_retention / all_users * 100\n",
    "retention_after = day_after_retention / all_users * 100\n",
    "\n",
    "# Падение retention, округляем вверх\n",
    "drop = math.ceil(retention_14 - retention_after)\n",
    "\n",
    "print(drop)\n",
    "# должно быть 18"
   ]
  }
 ],
 "metadata": {
  "kernelspec": {
   "display_name": "Python 3 (ipykernel)",
   "language": "python",
   "name": "python3"
  },
  "language_info": {
   "codemirror_mode": {
    "name": "ipython",
    "version": 3
   },
   "file_extension": ".py",
   "mimetype": "text/x-python",
   "name": "python",
   "nbconvert_exporter": "python",
   "pygments_lexer": "ipython3",
   "version": "3.12.7"
  }
 },
 "nbformat": 4,
 "nbformat_minor": 5
}
