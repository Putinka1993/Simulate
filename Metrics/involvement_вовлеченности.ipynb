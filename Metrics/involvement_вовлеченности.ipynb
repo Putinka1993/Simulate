{
 "cells": [
  {
   "cell_type": "markdown",
   "id": "d8737225-1914-410b-8d1f-d8298a406362",
   "metadata": {},
   "source": [
    "# Метрики вовлеченности"
   ]
  }
 ],
 "metadata": {
  "kernelspec": {
   "display_name": "Python 3 (ipykernel)",
   "language": "python",
   "name": "python3"
  },
  "language_info": {
   "codemirror_mode": {
    "name": "ipython",
    "version": 3
   },
   "file_extension": ".py",
   "mimetype": "text/x-python",
   "name": "python",
   "nbconvert_exporter": "python",
   "pygments_lexer": "ipython3",
   "version": "3.12.7"
  }
 },
 "nbformat": 4,
 "nbformat_minor": 5
}
