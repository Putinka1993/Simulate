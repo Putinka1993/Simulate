{
 "cells": [
  {
   "cell_type": "markdown",
   "id": "e0050844-6107-480f-9548-b03ec75f1087",
   "metadata": {},
   "source": [
    "# ABC анализ в Аптечной сети "
   ]
  },
  {
   "cell_type": "markdown",
   "id": "c582bc78-600a-4139-81d0-41418120c18c",
   "metadata": {},
   "source": [
    "## провести многомерный ABC-анализ по 3 признакам:\n",
    "\n",
    "- количество проданных штук товара\n",
    "- сумма продаж\n",
    "- месячная оборачиваемость"
   ]
  },
  {
   "cell_type": "markdown",
   "id": "ce591955-b3f0-43b2-8c7b-8c8774fa3f5e",
   "metadata": {},
   "source": [
    "Загружаем и решаем задачу с помощью postgres SQL"
   ]
  },
  {
   "cell_type": "markdown",
   "id": "ac628f05-1e3f-49d5-8506-553bb418e5a0",
   "metadata": {},
   "source": [
    "1) Агрегируем данные\n",
    "   - по количеству на товар\n",
    "   - по выручке с учетом скидки на товар\n",
    "   - по среднедневное количество продаж умноженное на 30 дней"
   ]
  },
  {
   "cell_type": "code",
   "execution_count": null,
   "id": "a9341599-648e-4138-b836-1c691799c33c",
   "metadata": {},
   "outputs": [],
   "source": [
    "with\n",
    "group_table as (\n",
    "  select\n",
    "    ds.dr_ndrugs\n",
    "    , sum(ds.dr_kol) as amount\n",
    "    , sum(ds.dr_croz - ds.dr_sdisc) as profit_with_discount \n",
    "    , SUM(ds.dr_kol) / COUNT(DISTINCT dr_dat) * 30 AS month_average  \n",
    "  from \n",
    "    drugs_simulative ds \n",
    "  where \n",
    "    ds.dr_ndrugs != ''\n",
    "  group by \n",
    "    dr_ndrugs \n",
    ")"
   ]
  },
  {
   "cell_type": "markdown",
   "id": "7e8b2a0d-db45-4203-bde5-9bb736ce4af0",
   "metadata": {},
   "source": [
    "2. Расчитываем накопительную сумму по перечисленным выше полям "
   ]
  },
  {
   "cell_type": "code",
   "execution_count": null,
   "id": "0916ec20-8da9-4e34-9ed7-b45fcc55dd8c",
   "metadata": {},
   "outputs": [],
   "source": [
    ", cumsum_table as (\n",
    "  select \n",
    "    dr_ndrugs \n",
    "    , round(sum(amount) over(order by amount DESC) /  sum(amount) over() * 100.0, 2) as cumsum_count\n",
    "    , round(sum(profit_with_discount ) over(order by profit_with_discount DESC) / sum(profit_with_discount ) over() * 100.0, 2) as cumsum_profit_with_disc\n",
    "    , round(sum(month_average) over(order by month_average DESC) / sum(month_average ) over() * 100.0, 2) as cumsum_month_average"
   ]
  },
  {
   "cell_type": "markdown",
   "id": "6c1d6226-09c8-4b78-9365-1584efbe13d1",
   "metadata": {},
   "source": [
    "3. Производим ABC анализ с учетом данных накопительной суммы по стандартному закону Парето 80/20"
   ]
  },
  {
   "cell_type": "code",
   "execution_count": null,
   "id": "c43f1eda-5241-48db-bdf3-d56e354e3248",
   "metadata": {},
   "outputs": [],
   "source": [
    ", case\n",
    "      when sum(amount) over(order by amount DESC) /  sum(amount) over() * 100.0 <= 80 then 'A'\n",
    "      when sum(amount) over(order by amount DESC) /  sum(amount) over() * 100.0 <= 95 then 'B'\n",
    "      else 'C'\n",
    "    end as ABC_count\n",
    "    , case\n",
    "      when sum(profit_with_discount) over(order by profit_with_discount DESC) /  sum(profit_with_discount) over() * 100.0 <= 80 then 'A'\n",
    "      when sum(profit_with_discount) over(order by profit_with_discount DESC) /  sum(profit_with_discount) over() * 100.0 <= 95 then 'B'\n",
    "      else 'C'\n",
    "    end as ABC_profit_with_disc\n",
    "    , case\n",
    "      when sum(month_average) over(order by month_average DESC) /  sum(month_average) over() * 100.0 <= 80 then 'A'\n",
    "      when sum(month_average) over(order by month_average DESC) /  sum(month_average) over() * 100.0 <= 95 then 'B'\n",
    "      else 'C'\n",
    "    end as ABC_month_average\n",
    "  from \n",
    "    group_table\n",
    ")"
   ]
  },
  {
   "cell_type": "markdown",
   "id": "1a3ca095-b6c3-43a7-a33a-e6d7dd258b41",
   "metadata": {},
   "source": [
    "4. Выводим произведенный ABC анализ в порядке: количество проданных штук товара, сумма продаж, месячная оборачиваемость.\n",
    "- отсортированный по: сумма продаж, количество проданных штук товара, месячная оборачиваемость."
   ]
  },
  {
   "cell_type": "code",
   "execution_count": null,
   "id": "45636aa2-2232-46ca-86b6-3ba91ad7f90a",
   "metadata": {},
   "outputs": [],
   "source": [
    "select\n",
    "  dr_ndrugs \n",
    "  , ABC_count || ABC_profit_with_disc || ABC_month_average as count_profit_monthturnover\n",
    "from\n",
    "  cumsum_table \n",
    "order by\n",
    "  ABC_profit_with_disc\n",
    "  , ABC_count\n",
    "  , abc_month_average ;"
   ]
  },
  {
   "cell_type": "markdown",
   "id": "36d2a13a-7c45-4f7c-b534-b0881a2b672e",
   "metadata": {},
   "source": [
    "##  решение целиком "
   ]
  },
  {
   "cell_type": "code",
   "execution_count": null,
   "id": "3e93ac84-8f33-4f3d-b7f1-784c9b7023eb",
   "metadata": {},
   "outputs": [],
   "source": [
    "with\n",
    "group_table as (\n",
    "  select\n",
    "    ds.dr_ndrugs\n",
    "    , sum(ds.dr_kol) as amount\n",
    "    , sum(ds.dr_croz - ds.dr_sdisc) as profit_with_discount \n",
    "    , SUM(ds.dr_kol) / COUNT(DISTINCT dr_dat) * 30 AS month_average  \n",
    "  from \n",
    "    drugs_simulative ds \n",
    "  where \n",
    "    ds.dr_ndrugs != ''\n",
    "  group by \n",
    "    dr_ndrugs \n",
    ")\n",
    ", cumsum_table as (\n",
    "  select \n",
    "    dr_ndrugs \n",
    "    , round(sum(amount) over(order by amount DESC) /  sum(amount) over() * 100.0, 2) as cumsum_count\n",
    "    , round(sum(profit_with_discount ) over(order by profit_with_discount DESC) / sum(profit_with_discount ) over() * 100.0, 2) as cumsum_profit_with_disc\n",
    "    , round(sum(month_average) over(order by month_average DESC) / sum(month_average ) over() * 100.0, 2) as cumsum_month_average\n",
    "    , case\n",
    "      when sum(amount) over(order by amount DESC) /  sum(amount) over() * 100.0 <= 80 then 'A'\n",
    "      when sum(amount) over(order by amount DESC) /  sum(amount) over() * 100.0 <= 95 then 'B'\n",
    "      else 'C'\n",
    "    end as ABC_count\n",
    "    , case\n",
    "      when sum(profit_with_discount) over(order by profit_with_discount DESC) /  sum(profit_with_discount) over() * 100.0 <= 80 then 'A'\n",
    "      when sum(profit_with_discount) over(order by profit_with_discount DESC) /  sum(profit_with_discount) over() * 100.0 <= 95 then 'B'\n",
    "      else 'C'\n",
    "    end as ABC_profit_with_disc\n",
    "    , case\n",
    "      when sum(month_average) over(order by month_average DESC) /  sum(month_average) over() * 100.0 <= 80 then 'A'\n",
    "      when sum(month_average) over(order by month_average DESC) /  sum(month_average) over() * 100.0 <= 95 then 'B'\n",
    "      else 'C'\n",
    "    end as ABC_month_average\n",
    "  from \n",
    "    group_table\n",
    ")\n",
    "select\n",
    "  dr_ndrugs \n",
    "  , ABC_count || ABC_profit_with_disc || ABC_month_average as count_profit_monthturnover\n",
    "from\n",
    "  cumsum_table \n",
    "order by\n",
    "  ABC_profit_with_disc\n",
    "  , ABC_count\n",
    "  , abc_month_average ;"
   ]
  }
 ],
 "metadata": {
  "kernelspec": {
   "display_name": "Python 3 (ipykernel)",
   "language": "python",
   "name": "python3"
  },
  "language_info": {
   "codemirror_mode": {
    "name": "ipython",
    "version": 3
   },
   "file_extension": ".py",
   "mimetype": "text/x-python",
   "name": "python",
   "nbconvert_exporter": "python",
   "pygments_lexer": "ipython3",
   "version": "3.12.2"
  }
 },
 "nbformat": 4,
 "nbformat_minor": 5
}
