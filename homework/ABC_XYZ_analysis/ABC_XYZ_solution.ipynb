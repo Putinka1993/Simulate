{
 "cells": [
  {
   "cell_type": "markdown",
   "id": "0f5d27e7-77a8-46ac-b3ff-d961dd85d57b",
   "metadata": {},
   "source": [
    "# ABC-XYZ анализ в Аптечной сети "
   ]
  },
  {
   "cell_type": "markdown",
   "id": "cc60cfa5-522f-407a-bcc9-20736d30623b",
   "metadata": {},
   "source": [
    "- дополнение к уже выполненому [ABC-анализу](https://github.com/Putinka1993/Simulate/blob/main/homework/ABC_analysis/solution.ipynb)"
   ]
  },
  {
   "cell_type": "markdown",
   "id": "81f28c17-d489-4c4e-89c4-d5a02483a622",
   "metadata": {},
   "source": [
    "1. Агрегируем данные\n",
    "   - по количеству товара в даты продаж\n",
    "2. убираем пустые значения\n",
    "3. собираем данные по товарам которые продаются не меньше чем 3 дня"
   ]
  },
  {
   "cell_type": "code",
   "execution_count": null,
   "id": "49a30fb8-3430-49f3-900b-4d8ac1cd6ac5",
   "metadata": {},
   "outputs": [],
   "source": [
    ", group_table_XYZ as (\n",
    "  select\n",
    "    ds.dr_dat\n",
    "    , ds.dr_ndrugs\n",
    "    , sum(ds.dr_kol) as amount\n",
    "  from drugs_simulative ds\n",
    "  where ds.dr_ndrugs in (\n",
    "    select ds2.dr_ndrugs\n",
    "    from drugs_simulative ds2\n",
    "    where ds2.dr_ndrugs != ''\n",
    "    group by ds2.dr_ndrugs\n",
    "    having count(distinct ds2.dr_dat) >= 3\n",
    "  )\n",
    "  group by ds.dr_dat, ds.dr_ndrugs\n",
    "),"
   ]
  },
  {
   "cell_type": "markdown",
   "id": "c0f96108-71a4-43a9-88bb-bb957a61e3d2",
   "metadata": {},
   "source": [
    "4. Подсчитываем коэффициент вариации\n",
    "5. выставляем буквенные границы для определения XYZ анализа "
   ]
  },
  {
   "cell_type": "code",
   "execution_count": null,
   "id": "54020b76-d601-4a09-9712-a85700027154",
   "metadata": {},
   "outputs": [],
   "source": [
    "XYZ_result as (\n",
    "  select distinct\n",
    "     dr_ndrugs\n",
    "    , round(\n",
    "      case when avg(amount) over(partition by dr_ndrugs) = 0 then null\n",
    "        else stddev_pop(amount) over(partition by dr_ndrugs) / avg(amount) over(partition by dr_ndrugs)\n",
    "      end, 3\n",
    "    ) as COV\n",
    "    , case\n",
    "      \twhen round(stddev_pop(amount) over(partition by dr_ndrugs) / avg(amount) over(partition by dr_ndrugs), 3) <= 0.10 then 'X'\n",
    "      \twhen round(stddev_pop(amount) over(partition by dr_ndrugs) / avg(amount) over(partition by dr_ndrugs), 3) <= 0.25 then 'Y'\n",
    "      else 'Z'\n",
    "    end as XYZ\n",
    "  from group_table_XYZ\n",
    ")"
   ]
  },
  {
   "cell_type": "markdown",
   "id": "24f0c774-6980-4d16-a223-b05e8c59686d",
   "metadata": {},
   "source": [
    "6. Объеденение таблицы и вывод ABC-XYZ "
   ]
  },
  {
   "cell_type": "code",
   "execution_count": null,
   "id": "823aa3ae-44f6-4bef-839f-30ad48756b25",
   "metadata": {},
   "outputs": [],
   "source": [
    "select\n",
    "\ta.dr_ndrugs\n",
    "\t, a.ABC_combined || '-' || coalesce(x.XYZ, 'N/A') as ABC_XYZ\n",
    "from ABC_result a\n",
    "left join XYZ_result x on a.dr_ndrugs = x.dr_ndrugs\n",
    "order by\n",
    "\ta.ABC_combined\n",
    "\t, x.XYZ;"
   ]
  },
  {
   "cell_type": "markdown",
   "id": "ac10c9ba-7235-45ee-9956-072f3a3c6ca5",
   "metadata": {},
   "source": [
    "##  решение целиком "
   ]
  },
  {
   "cell_type": "code",
   "execution_count": null,
   "id": "039d39e5-5269-482e-9da3-2f513b731fab",
   "metadata": {},
   "outputs": [],
   "source": [
    "-- ABC-анализ\n",
    "with\n",
    "group_table as (\n",
    "  select\n",
    "    ds.dr_ndrugs\n",
    "    , sum(ds.dr_kol) as amount \n",
    "    , sum(ds.dr_croz - ds.dr_sdisc) as profit_with_discount\n",
    "    , sum(ds.dr_kol) / count(distinct dr_dat) * 30 as month_average\n",
    "  from drugs_simulative ds\n",
    "  where ds.dr_ndrugs != ''\n",
    "  group by ds.dr_ndrugs\n",
    "),\n",
    "cumsum_table as (\n",
    "  select\n",
    "    dr_ndrugs\n",
    "    , round(sum(amount) over(order by amount desc) / sum(amount) over() * 100.0, 2) as cumsum_count\n",
    "    , round(sum(profit_with_discount) over(order by profit_with_discount desc) / sum(profit_with_discount) over() * 100.0, 2) as cumsum_profit_with_disc\n",
    "    , round(sum(month_average) over(order by month_average desc) / sum(month_average) over() * 100.0, 2) as cumsum_month_average\n",
    "    , case\n",
    "      when sum(amount) over(order by amount desc) / sum(amount) over() * 100.0 <= 80 then 'A'\n",
    "      when sum(amount) over(order by amount desc) / sum(amount) over() * 100.0 <= 95 then 'B'\n",
    "      else 'C'\n",
    "    end as ABC_count\n",
    "    , case\n",
    "      when sum(profit_with_discount) over(order by profit_with_discount desc) / sum(profit_with_discount) over() * 100.0 <= 80 then 'A'\n",
    "      when sum(profit_with_discount) over(order by profit_with_discount desc) / sum(profit_with_discount) over() * 100.0 <= 95 then 'B'\n",
    "      else 'C'\n",
    "    end as ABC_profit_with_disc\n",
    "    , case\n",
    "      when sum(month_average) over(order by month_average desc) / sum(month_average) over() * 100.0 <= 80 then 'A'\n",
    "      when sum(month_average) over(order by month_average desc) / sum(month_average) over() * 100.0 <= 95 then 'B'\n",
    "      else 'C'\n",
    "    end as ABC_month_average\n",
    "  from group_table\n",
    "),\n",
    "ABC_result as (\n",
    "  select\n",
    "    dr_ndrugs\n",
    "    , ABC_count || ABC_profit_with_disc || ABC_month_average as ABC_combined\n",
    "  from cumsum_table\n",
    ")\n",
    "-- XYZ-анализ\n",
    ", group_table_XYZ as (\n",
    "  select\n",
    "    ds.dr_dat\n",
    "    , ds.dr_ndrugs\n",
    "    , sum(ds.dr_kol) as amount\n",
    "  from drugs_simulative ds\n",
    "  where ds.dr_ndrugs in (\n",
    "    select ds2.dr_ndrugs\n",
    "    from drugs_simulative ds2\n",
    "    where ds2.dr_ndrugs != ''\n",
    "    group by ds2.dr_ndrugs\n",
    "    having count(distinct ds2.dr_dat) >= 3\n",
    "  )\n",
    "  group by ds.dr_dat, ds.dr_ndrugs\n",
    "),\n",
    "XYZ_result as (\n",
    "  select distinct\n",
    "     dr_ndrugs\n",
    "    , round(\n",
    "      case when avg(amount) over(partition by dr_ndrugs) = 0 then null\n",
    "        else stddev_pop(amount) over(partition by dr_ndrugs) / avg(amount) over(partition by dr_ndrugs)\n",
    "      end, 3\n",
    "    ) as COV\n",
    "    , case\n",
    "      \twhen round(stddev_pop(amount) over(partition by dr_ndrugs) / avg(amount) over(partition by dr_ndrugs), 3) <= 0.10 then 'X'\n",
    "      \twhen round(stddev_pop(amount) over(partition by dr_ndrugs) / avg(amount) over(partition by dr_ndrugs), 3) <= 0.25 then 'Y'\n",
    "      else 'Z'\n",
    "    end as XYZ\n",
    "  from group_table_XYZ\n",
    ")\n",
    "-- Объединение результатов ABC и XYZ\n",
    "select\n",
    "\ta.dr_ndrugs\n",
    "\t, a.ABC_combined || '-' || coalesce(x.XYZ, 'N/A') as ABC_XYZ\n",
    "from ABC_result a\n",
    "left join XYZ_result x on a.dr_ndrugs = x.dr_ndrugs\n",
    "order by\n",
    "\ta.ABC_combined\n",
    "\t, x.XYZ;"
   ]
  }
 ],
 "metadata": {
  "kernelspec": {
   "display_name": "Python 3 (ipykernel)",
   "language": "python",
   "name": "python3"
  },
  "language_info": {
   "codemirror_mode": {
    "name": "ipython",
    "version": 3
   },
   "file_extension": ".py",
   "mimetype": "text/x-python",
   "name": "python",
   "nbconvert_exporter": "python",
   "pygments_lexer": "ipython3",
   "version": "3.12.2"
  }
 },
 "nbformat": 4,
 "nbformat_minor": 5
}
