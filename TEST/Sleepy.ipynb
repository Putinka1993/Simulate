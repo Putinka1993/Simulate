{
 "cells": [
  {
   "cell_type": "code",
   "execution_count": 2,
   "id": "d957713c-3bc2-4835-9e59-084b345bd727",
   "metadata": {},
   "outputs": [],
   "source": [
    "import pandas as pd\n",
    "import math"
   ]
  },
  {
   "cell_type": "markdown",
   "id": "816c2c67-6f92-4804-8c03-82262f00ffea",
   "metadata": {},
   "source": [
    "## Теперь о монетизации - Sleepy работает по подписке: 990 рублей в месяц. Первые две недели бесплатно, затем клиент видит пейвол (от «pay wall» - как бы стена, которая тебя не пускает дальше, пока ты не оплатишь) и, если привязывает карту, продолжает пользоваться подпиской, а деньги списываются автоматически.\n",
    "\n",
    "## Если говорить о привлечении, то это молодой венчурный стартап, поэтому привлечение одного пользователя (даже если он не заплатит) довольно дорогое - 500 рублей.\n",
    "\n",
    "## Данных у вас немного - вам дан датасет всего из двух полей:\n",
    "\n",
    "\n",
    "## user - номер пользователя в системе\n",
    "\n",
    "## dt - дата его захода в приложение\n",
    "\n",
    "## Данные устроены таким образом, что фиксируется только один заход пользователя за день - одинаковых пар \"пользователь - дата\" быть не может. \n",
    "## Кроме того, фиксируются только заходы пользователей на триальной версии и тех, кто прошел пейвол. \n",
    "## Если человек открыл приложение после 14 дня и не привязал карту - такой заход не фиксируется."
   ]
  },
  {
   "cell_type": "code",
   "execution_count": null,
   "id": "49edd03e-a0ed-4ccb-9f8a-0dbc7b027d35",
   "metadata": {},
   "outputs": [],
   "source": [
    "# n day retention\n",
    "\n",
    "\n",
    "# WIN\n",
    "users_sleepy = pd.read_csv(r'C:\\Users\\Incognitus\\Downloads\\entries.csv', sep=';') \n",
    "# MAC\n",
    "# users_sleepy = pd.read_csv(r'/Users/vladislavlipkin/Downloads/entries.csv', sep=';') "
   ]
  },
  {
   "cell_type": "code",
   "execution_count": null,
   "id": "4e4b6240-1ac9-4aac-8967-2f29344483ff",
   "metadata": {},
   "outputs": [],
   "source": [
    "users_sleepy.head(5)"
   ]
  },
  {
   "cell_type": "code",
   "execution_count": null,
   "id": "5fd21c2e-9bfe-4d85-8096-9625c1c84f1e",
   "metadata": {},
   "outputs": [],
   "source": [
    "# --- подготовка данных ---\n",
    "users_filter = users_sleepy.loc[:, ['user', 'dt']]\n",
    "users_filter['dt'] = pd.to_datetime(users_filter['dt'], format='%d.%m.%Y')\n",
    "users_filter['month_start'] = users_filter['dt'].dt.to_period('M').dt.to_timestamp()\n",
    "users_filter['dt_reg'] = users_filter.groupby('user')['dt'].transform('min')\n",
    "users_filter['diff'] = (users_filter['dt'] - users_filter['dt_reg']).dt.days\n",
    "users_filter['week'] = round(users_filter['diff'] / 7, 0)\n",
    "users_filter['month'] = round(users_filter['diff'] / 30, 0)\n",
    "\n",
    "\n",
    "# --- считаем общее количество пользователей ---\n",
    "all_users = users_filter['user'].nunique()\n",
    "\n",
    "# --- retention по разным периодам ---\n",
    "users_filter['N_DAY_retention']   = users_filter.groupby('diff')['user'].transform('nunique') / all_users * 100\n",
    "users_filter['N_WEEK_retention']  = users_filter.groupby('week')['user'].transform('nunique') / all_users * 100\n",
    "users_filter['N_MONTH_retention'] = users_filter.groupby('month')['user'].transform('nunique') / all_users * 100\n",
    "\n",
    "\n",
    "# 🔹🔹🔹 Универсальная переменная для переключения периода 🔹🔹🔹\n",
    "period = 'week'     # варианты: 'day', 'week', 'month'\n",
    "\n",
    "\n",
    "# --- выбираем колонку и подписи в зависимости от периода ---\n",
    "if period == 'day':\n",
    "    idx_col = 'diff'\n",
    "    period_name = 'Day'\n",
    "elif period == 'week':\n",
    "    idx_col = 'week'\n",
    "    period_name = 'Week'\n",
    "elif period == 'month':\n",
    "    idx_col = 'month'\n",
    "    period_name = 'Month'\n",
    "else:\n",
    "    raise ValueError(\"period must be 'day', 'week', or 'month'\")\n",
    "\n",
    "\n",
    "# --- создаем универсальный pivot ---\n",
    "pivot = (\n",
    "    users_filter\n",
    "    .groupby(idx_col, as_index=False)['user']\n",
    "    .nunique()\n",
    "    .rename(columns={'user': 'unique_users'})\n",
    ")\n",
    "\n",
    "pivot['retention'] = pivot['unique_users'] / all_users * 100\n",
    "pivot['period'] = period_name  # добавляем столбец для понятного вывода\n",
    "\n",
    "# --- создаем полный диапазон индексов ---\n",
    "full_range = pd.DataFrame({idx_col: range(int(pivot[idx_col].min()), int(pivot[idx_col].max()) + 1)})\n",
    "pivot_full = full_range.merge(pivot, on=idx_col, how='left')\n",
    "\n",
    "# --- вывод ---\n",
    "print(f\"Retention by {period_name}\")\n",
    "display(pivot_full.head(30))\n",
    "print(f'retention: {pivot_full['retention'].sum() / 100}')"
   ]
  },
  {
   "cell_type": "code",
   "execution_count": null,
   "id": "9ed7b6bd-a8c3-4cae-be7a-6563b1abb144",
   "metadata": {},
   "outputs": [],
   "source": [
    "users_filter.groupby('diff')['user'].nunique().query('14 < diff < 15')\n",
    "# pivot_full.query('13 < diff < 16')['unique_users'].nunique"
   ]
  },
  {
   "cell_type": "code",
   "execution_count": null,
   "id": "3673f563-1394-4952-a8af-53700414b4b8",
   "metadata": {},
   "outputs": [],
   "source": [
    "# 25 minutes\n",
    "users_filter.sort_values(by='dt', ascending=True).head(20)"
   ]
  },
  {
   "cell_type": "code",
   "execution_count": null,
   "id": "7339cfbb-cc4c-4cfe-815c-59e472807a74",
   "metadata": {},
   "outputs": [],
   "source": [
    "# среднее MAU за весь период\n",
    "user_in_month = users_filter.groupby('month_start')['user'].nunique().reset_index(name='unique_users')\n",
    "average_mau = user_in_month['unique_users'].mean()\n",
    "average_mau"
   ]
  },
  {
   "cell_type": "code",
   "execution_count": null,
   "id": "376ddb07-cc39-4d3c-a97c-2e38e51dd0ba",
   "metadata": {},
   "outputs": [],
   "source": [
    "# среднее DAU за весь период\n",
    "\n",
    "# --- считаем количество уникальных пользователей по каждой дате ---\n",
    "user_in_day = (\n",
    "    users_filter.groupby('dt')['user']\n",
    "    .nunique()\n",
    "    .reset_index(name='unique_users')\n",
    ")\n",
    "# --- создаем полный список дат ---\n",
    "\n",
    "full_dates = pd.DataFrame({\n",
    "    'dt': pd.date_range(users_filter['dt'].min(), users_filter['dt'].max())\n",
    "})\n",
    "# --- добавляем пропущенные даты ---\n",
    "user_in_day_full = (\n",
    "    full_dates\n",
    "    .merge(user_in_day, on='dt', how='left')\n",
    "    .fillna({'unique_users': 0})  # ставим 0, если в этот день нет пользователей\n",
    ")\n",
    "# --- считаем среднее DAU ---\n",
    "average_dau = user_in_day_full['unique_users'].mean()\n",
    "average_dau"
   ]
  },
  {
   "cell_type": "code",
   "execution_count": null,
   "id": "2d08dd9a-9a3b-4cd4-b317-1d882f8f734d",
   "metadata": {},
   "outputs": [],
   "source": [
    "# Sticky_factor\n",
    "print(f'average_DAU: {round(average_dau, 1)}')\n",
    "print(f'average_MAU: {round(average_mau, 1)}')\n",
    "print()\n",
    "print(f'Sticky_factor: {average_dau / average_mau * 100}')"
   ]
  },
  {
   "cell_type": "code",
   "execution_count": null,
   "id": "b67b048b-ccfe-46f2-8d80-1c70de726c3d",
   "metadata": {},
   "outputs": [],
   "source": [
    "# Во сколько раз LT методом усреднения разницы между \n",
    "# максимальным и минимальным заходом каждого пользователя \n",
    "# больше LT методом классического n-day retention (считаем в днях). 26\n",
    "# Ответ округлите в меньшую сторону."
   ]
  },
  {
   "cell_type": "code",
   "execution_count": null,
   "id": "84f475b4-6e4c-4300-af22-c932153947d1",
   "metadata": {},
   "outputs": [],
   "source": [
    "n_day_retention = pivot_full['retention'].sum() / 100\n",
    "print(f'retention: {n_day_retention}')"
   ]
  },
  {
   "cell_type": "code",
   "execution_count": null,
   "id": "92325c10-b534-417f-9c6f-16f73930c68d",
   "metadata": {},
   "outputs": [],
   "source": [
    "# --- рассчитываем LT (Lifetime) ---\n",
    "lt_per_user = (\n",
    "    users_filter.groupby('user')['dt']\n",
    "    .agg(['min', 'max'])              # находим первую и последнюю дату активности\n",
    "    .assign(lifetime=lambda x: (x['max'] - x['min']).dt.days)  # разница в днях\n",
    ")\n",
    "\n",
    "# среднее \"время жизни\" пользователя\n",
    "LT = lt_per_user['lifetime'].mean()\n",
    "\n",
    "print(f\"Средний LT (lifetime): {LT:.2f} дней\")"
   ]
  },
  {
   "cell_type": "code",
   "execution_count": null,
   "id": "88b66c4c-f550-4c8a-9ee8-cc3c3b65b771",
   "metadata": {},
   "outputs": [],
   "source": [
    "LT / n_day_retention"
   ]
  },
  {
   "cell_type": "code",
   "execution_count": null,
   "id": "f34b3ec1-7941-4bfa-9693-ab02cd3e32e5",
   "metadata": {},
   "outputs": [],
   "source": [
    "# Посчитайте MAU каждого месяца на основании календарных месяцев. \n",
    "# В какой месяц была самая высокая пользовательская активность? \n",
    "# Ответ дайте в формате YYYY-MM, например, 2024-07."
   ]
  },
  {
   "cell_type": "code",
   "execution_count": null,
   "id": "d35ec3be-0934-45ce-afb6-4d3434a191b4",
   "metadata": {},
   "outputs": [],
   "source": [
    "# --- считаем уникальных пользователей по месяцам ---\n",
    "pivot = (\n",
    "    users_filter\n",
    "    .groupby('month_start', as_index=False)['user']\n",
    "    .nunique()\n",
    "    .rename(columns={'user': 'unique_users'})\n",
    ")\n",
    "\n",
    "# --- считаем retention ---\n",
    "pivot['retention'] = pivot['unique_users'] / all_users * 100\n",
    "pivot['period'] = 'Month'  # или period_name, если он у тебя есть выше\n",
    "\n",
    "# --- добавляем колонку YYYY-MM ---\n",
    "pivot['year_month'] = pivot['month_start'].dt.strftime('%Y-%m')\n",
    "\n",
    "# --- создаем полный диапазон месяцев ---\n",
    "full_range = pd.DataFrame({\n",
    "    'month_start': pd.date_range(\n",
    "        users_filter['month_start'].min(),\n",
    "        users_filter['month_start'].max(),\n",
    "        freq='MS'  # начало каждого месяца\n",
    "    )\n",
    "})\n",
    "\n",
    "# --- объединяем с pivot, чтобы добавить пропущенные месяцы ---\n",
    "pivot_full = full_range.merge(pivot, on='month_start', how='left')\n",
    "\n",
    "# --- финальный вывод ---\n",
    "pivot_full.sort_values(by='unique_users', ascending=False).head(20)"
   ]
  },
  {
   "cell_type": "code",
   "execution_count": null,
   "id": "b731a67f-55e8-45a1-9a14-bbe03dc9f525",
   "metadata": {},
   "outputs": [],
   "source": [
    "users_filter.head(10)"
   ]
  },
  {
   "cell_type": "code",
   "execution_count": null,
   "id": "f88f959f-df90-4573-8dee-38cebc7c722c",
   "metadata": {},
   "outputs": [],
   "source": [
    "\n",
    "fig, ax1 = plt.subplots(figsize=(9, 5))\n",
    "\n",
    "# --- Первая ось: Retention ---\n",
    "color = 'tab:blue'\n",
    "ax1.set_xlabel(f'{period_name} after registration')\n",
    "ax1.set_ylabel('Retention, %', color=color)\n",
    "ax1.plot(pivot_full[idx_col], pivot_full['retention'], color=color, marker='o', linewidth=2, label='Retention %')\n",
    "ax1.tick_params(axis='y', labelcolor=color)\n",
    "ax1.grid(True, which='major', axis='both', linestyle='--', alpha=0.5)\n",
    "\n",
    "# --- Вторая ось: количество уникальных пользователей ---\n",
    "ax2 = ax1.twinx()  # создаём вторую ось Y\n",
    "color = 'tab:orange'\n",
    "ax2.set_ylabel('Unique users', color=color)\n",
    "ax2.bar(pivot_full[idx_col], pivot_full['unique_users'], color=color, alpha=0.3, label='Unique users')\n",
    "ax2.tick_params(axis='y', labelcolor=color)\n",
    "\n",
    "# --- Заголовок и оформление ---\n",
    "plt.title(f'Retention and Unique Users by {period_name}')\n",
    "fig.tight_layout()\n",
    "plt.show()"
   ]
  },
  {
   "cell_type": "code",
   "execution_count": null,
   "id": "af52df5a-5855-470a-a287-ea2797499d2c",
   "metadata": {},
   "outputs": [],
   "source": [
    "6 * 990"
   ]
  },
  {
   "cell_type": "code",
   "execution_count": null,
   "id": "5e0928cd-13f0-497d-8f8e-c565878344d7",
   "metadata": {},
   "outputs": [],
   "source": [
    "users_filter"
   ]
  },
  {
   "cell_type": "code",
   "execution_count": null,
   "id": "8d419d65-f39a-482c-8a19-961c94155961",
   "metadata": {},
   "outputs": [],
   "source": [
    "# users_filter['month'] = round(users_filter['diff'] / 30, 0)\n",
    "# users_filter['week'] = round(users_filter['diff'] / 7, 0)\n",
    "users_filter"
   ]
  },
  {
   "cell_type": "code",
   "execution_count": null,
   "id": "60aa9dd0-daf1-46c8-8364-ceb8336e3d81",
   "metadata": {},
   "outputs": [],
   "source": [
    "print(f'count of month: {users_filter['month'].sum() / 100}')\n",
    "print(f'count of week: {users_filter['week'].sum() / 100}')"
   ]
  },
  {
   "cell_type": "code",
   "execution_count": null,
   "id": "49118b1a-c107-422e-9fd0-ed0e3ddbcebc",
   "metadata": {},
   "outputs": [],
   "source": [
    "# count users paying\n",
    "cpu = users_filter.query('diff >= 14')['user'].nunique()\n",
    "print(f'количество людей купивших подписку : {cpu}')\n",
    "print()\n",
    "price_all_users = all_users * 500\n",
    "net_profit = cpu * 990 - price_all_users\n",
    "print(f'стоимость привлечения за всех пользователей {price_all_users}')\n",
    "print()\n",
    "print(f'выручка за все проданные подписки: {cpu * 990}')\n",
    "print()\n",
    "print(f'чистая прибыль с учетом затратов: {net_profit}')\n",
    "print(f'CPU: {users_filter.query(' 17 > diff >= 14')['user'].nunique()}')"
   ]
  }
 ],
 "metadata": {
  "kernelspec": {
   "display_name": "Python [conda env:base] *",
   "language": "python",
   "name": "conda-base-py"
  },
  "language_info": {
   "codemirror_mode": {
    "name": "ipython",
    "version": 3
   },
   "file_extension": ".py",
   "mimetype": "text/x-python",
   "name": "python",
   "nbconvert_exporter": "python",
   "pygments_lexer": "ipython3",
   "version": "3.12.7"
  }
 },
 "nbformat": 4,
 "nbformat_minor": 5
}
