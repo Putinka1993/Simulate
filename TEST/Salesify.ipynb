{
 "cells": [
  {
   "cell_type": "code",
   "execution_count": 1,
   "id": "d957713c-3bc2-4835-9e59-084b345bd727",
   "metadata": {},
   "outputs": [],
   "source": [
    "import pandas as pd\n",
    "import math"
   ]
  },
  {
   "cell_type": "markdown",
   "id": "1fded3ec-72af-4576-b1ea-578e626c6348",
   "metadata": {},
   "source": [
    "# Поднять инвестиции в Salesify: описание кейса"
   ]
  },
  {
   "cell_type": "markdown",
   "id": "5639a5f0-efb8-4b9f-9343-ec4d4ba33260",
   "metadata": {},
   "source": [
    "Ваш продукт представлен в 3 тарифах:\n",
    "\n",
    "- базовый (только аналитика)\n",
    "- продвинутый (аналитика + автозаказ)\n",
    "- премиальный (аналитика + автозаказ + управление рекламой)"
   ]
  },
  {
   "cell_type": "markdown",
   "id": "6b055623-07c9-41c1-9f9f-eeff1465e581",
   "metadata": {},
   "source": [
    "Цены тарифов:\n",
    "\n",
    "- базовый - 30 000 рублей в месяц\n",
    "- продвинутый - 50 000 рублей в месяц\n",
    "- премиальный - 100 000 рублей в месяц"
   ]
  },
  {
   "cell_type": "markdown",
   "id": "ca012968-ac6b-4f31-82b6-3f9473bb3ab8",
   "metadata": {},
   "source": [
    "Естественно, тарифы покупают неравномерно. За последний год структура продаж следующая (тарифы и цены не менялись):\n",
    "\n",
    "- базовый - 55%\n",
    "- продвинутый - 30%\n",
    "- премиальный - 15%"
   ]
  },
  {
   "cell_type": "markdown",
   "id": "b1dfb3d2-cdb6-48b2-b73e-6b1452dbc28c",
   "metadata": {},
   "source": [
    "Вводные данные\n",
    "\n",
    "1. - За последний месяц вы привлекли 314 заявок на проведение консультации с сайта\n",
    "2. - На прямую рекламу на сайт потратили 4761182 рублей за тот же период\n",
    "3. - Конверсия сайта - 2.5%\n",
    "4. - При росте количества заявок стоимость заявки растет примерно на 15% после каждой тысячи заявок в месяц (этими цифрами поделились фаундеры других аналогичных проектов)\n",
    "5. - По внутренней статистике - на каждые 100 заявок примерно 25 недозвонов или нецелевых заявок\n",
    "6. - Из оставшихся 75 заявок примерно 20% в итоге вносят первую оплату в течение 5 недель\n",
    "7. - За успешную продажу менеджер получает премию в размере 10% от выручки с вычетом налога (6% от выручки)\n",
    "8. - Вне зависимости от срока жизни конкретного клиента, мы всегда проводим первичную интеграцию, которая бесплатна для клиента, но стоит в себестоимости 10000 рублей для компании\n",
    "9. - Из дальнейших расходов - только выделенный сервер для клиента (ежемесячный расход, включая первый месяц). Вне зависимости от тарифа его стоимость - 2000 рублей в месяц.\n",
    "10. - В среднем клиент пользуется сервисом 1.5 года"
   ]
  },
  {
   "cell_type": "markdown",
   "id": "9aa3ce1f-6741-4e30-8aa2-cae41dda3b97",
   "metadata": {},
   "source": [
    "1. За последний месяц вы привлекли 314 заявок на проведение консультации с сайта"
   ]
  },
  {
   "cell_type": "markdown",
   "id": "f2c162e8-a327-4d95-992f-d3f3e8789dc1",
   "metadata": {},
   "source": [
    "2. На прямую рекламу на сайт потратили 4761182 рублей за тот же период"
   ]
  },
  {
   "cell_type": "markdown",
   "id": "eacdcf71-3f0f-487d-be70-900d388ef5fb",
   "metadata": {},
   "source": [
    "3. Конверсия сайта - 2.5%"
   ]
  },
  {
   "cell_type": "markdown",
   "id": "240ba1c6-1ab0-40a8-af39-ac307197cf67",
   "metadata": {},
   "source": [
    "4. При росте количества заявок стоимость заявки растет примерно на 15% после каждой тысячи заявок в месяц (этими цифрами поделились фаундеры других аналогичных проектов)"
   ]
  },
  {
   "cell_type": "markdown",
   "id": "1afb1a21-8649-4fc2-93e5-6965081c29c9",
   "metadata": {},
   "source": [
    "5. По внутренней статистике - на каждые 100 заявок примерно 25 недозвонов или нецелевых заявок"
   ]
  },
  {
   "cell_type": "markdown",
   "id": "b8d88207-aceb-449e-86af-26de0b31681a",
   "metadata": {},
   "source": [
    "6. Из оставшихся 75 заявок примерно 20% в итоге вносят первую оплату в течение 5 недель"
   ]
  },
  {
   "cell_type": "markdown",
   "id": "7e70811b-83d8-4644-951d-9630a0373e2b",
   "metadata": {},
   "source": [
    "7. За успешную продажу менеджер получает премию в размере 10% от выручки с вычетом налога (6% от выручки)"
   ]
  },
  {
   "cell_type": "markdown",
   "id": "6cc8177e-1117-40a8-946f-75b03f0c83bf",
   "metadata": {},
   "source": [
    "8.  Вне зависимости от срока жизни конкретного клиента, мы всегда проводим первичную интеграцию, которая бесплатна для клиента, но стоит в себестоимости 10000 рублей для компании"
   ]
  },
  {
   "cell_type": "markdown",
   "id": "b7d0e6c7-3bf7-4a54-9d9e-918156d94d46",
   "metadata": {},
   "source": [
    "9.  Из дальнейших расходов - только выделенный сервер для клиента (ежемесячный расход, включая первый месяц). Вне зависимости от тарифа его стоимость - 2000 рублей в месяц."
   ]
  },
  {
   "cell_type": "markdown",
   "id": "3d9d3ba6-df2d-4cae-9f75-9fc42f61eec4",
   "metadata": {},
   "source": [
    "10. В среднем клиент пользуется сервисом 1.5 года"
   ]
  },
  {
   "cell_type": "markdown",
   "id": "20cb6a2c-9b96-4c72-b7c7-53573e1eb869",
   "metadata": {},
   "source": [
    "2. \n",
    "10. LT = 1.5 года"
   ]
  },
  {
   "cell_type": "markdown",
   "id": "575b6d86-d6ce-4a5e-b70f-e596abab9190",
   "metadata": {},
   "source": [
    "1. Сколько стоит один лид ? "
   ]
  },
  {
   "cell_type": "code",
   "execution_count": 2,
   "id": "46165616-80cd-4af3-b1d0-f0454481750d",
   "metadata": {},
   "outputs": [
    {
     "data": {
      "text/plain": [
       "15163.0"
      ]
     },
     "execution_count": 2,
     "metadata": {},
     "output_type": "execute_result"
    }
   ],
   "source": [
    "spent = 4761182\n",
    "leads = 314\n",
    "CPL = spent / leads\n",
    "CPL"
   ]
  },
  {
   "cell_type": "markdown",
   "id": "1fe35e36-d2ef-4c9c-87a8-6ff1dd02ffbe",
   "metadata": {},
   "source": [
    "2. Сколько сейчас стоит квалифицированный лид? Ответ округлите до целых в меньшую сторону."
   ]
  },
  {
   "cell_type": "code",
   "execution_count": 3,
   "id": "bcde760a-03c4-4d74-af20-6cb7a6894ad7",
   "metadata": {},
   "outputs": [
    {
     "data": {
      "text/plain": [
       "20217"
      ]
     },
     "execution_count": 3,
     "metadata": {},
     "output_type": "execute_result"
    }
   ],
   "source": [
    "vLeads = leads * 0.75\n",
    "round(spent / vLeads)"
   ]
  },
  {
   "cell_type": "markdown",
   "id": "f1e5ca87-b08b-4331-a224-b7fdf5dd97b9",
   "metadata": {},
   "source": [
    "3. Какой текущий CAC? Ответ округлите до целых в меньшую сторону."
   ]
  },
  {
   "cell_type": "code",
   "execution_count": 7,
   "id": "357eb0d6-efb2-4735-9313-81a5b4bd964e",
   "metadata": {},
   "outputs": [
    {
     "data": {
      "text/plain": [
       "101086"
      ]
     },
     "execution_count": 7,
     "metadata": {},
     "output_type": "execute_result"
    }
   ],
   "source": [
    "Purchases = vLeads * 0.20\n",
    "CAC = math.trunc(spent / Purchases)\n",
    "CAC # стоимость привлечения одного клиента"
   ]
  },
  {
   "cell_type": "markdown",
   "id": "b3854b26-fd3e-4008-a400-b9f4212a603c",
   "metadata": {},
   "source": [
    "4. Сколько людей нужно пригнать на сайт, что бы получить на 15% больше заявок? ( конверсия с сайта 2.5 процента )"
   ]
  },
  {
   "cell_type": "code",
   "execution_count": 6,
   "id": "6e3c2a1c-2128-452a-b07d-45b072220634",
   "metadata": {},
   "outputs": [
    {
     "data": {
      "text/plain": [
       "14444"
      ]
     },
     "execution_count": 6,
     "metadata": {},
     "output_type": "execute_result"
    }
   ],
   "source": [
    "result_15 = leads * 1.15\n",
    "round(result_15 / 0.025)"
   ]
  },
  {
   "cell_type": "markdown",
   "id": "cecb8541-5606-4cb1-a61c-8cab41cf04a9",
   "metadata": {},
   "source": [
    "5. На сколько рублей увеличится или уменьшится CAC, если в какой-то месяц будет 345 продаж? Ответ округлите до сотен."
   ]
  },
  {
   "cell_type": "code",
   "execution_count": 8,
   "id": "5a4b71c5-1381-4f7f-8020-87ef0acf6fe3",
   "metadata": {},
   "outputs": [
    {
     "name": "stdout",
     "output_type": "stream",
     "text": [
      "кол-во заявок: 2300.0\n"
     ]
    }
   ],
   "source": [
    "pur_temp = 345\n",
    "vL_temp = pur_temp / 0.20\n",
    "lead_temp = vL_temp / 0.75\n",
    "\n",
    "print(f'кол-во заявок: {lead_temp}')"
   ]
  },
  {
   "cell_type": "code",
   "execution_count": 9,
   "id": "73b69c68-1f74-425b-8095-65d817c4667b",
   "metadata": {},
   "outputs": [
    {
     "data": {
      "text/plain": [
       "133687"
      ]
     },
     "execution_count": 9,
     "metadata": {},
     "output_type": "execute_result"
    }
   ],
   "source": [
    "temp_cpl = CPL * 1.15 * 1.15 # привлечение одного клиента\n",
    "total_all_lead = temp_cpl * lead_temp # привлечение всех клиентов\n",
    "temp_CAC = total_all_lead / pur_temp\n",
    "round(temp_CAC)"
   ]
  },
  {
   "cell_type": "code",
   "execution_count": 10,
   "id": "bb690624-6857-49cc-8f8c-8802149ad4a1",
   "metadata": {},
   "outputs": [
    {
     "data": {
      "text/plain": [
       "32601.11666666661"
      ]
     },
     "execution_count": 10,
     "metadata": {},
     "output_type": "execute_result"
    }
   ],
   "source": [
    "temp_CAC - CAC"
   ]
  },
  {
   "cell_type": "markdown",
   "id": "7a5660f4-64c0-47eb-a873-9fbb30aa66df",
   "metadata": {},
   "source": [
    "6. Какой будет vCPL, когда будет 345 продаж? Ответ округлите до целых в меньшую сторону."
   ]
  },
  {
   "cell_type": "code",
   "execution_count": 12,
   "id": "4c9b1304-eff3-4a9f-8baf-344b1fdc1212",
   "metadata": {},
   "outputs": [
    {
     "data": {
      "text/plain": [
       "26737.423333333325"
      ]
     },
     "execution_count": 12,
     "metadata": {},
     "output_type": "execute_result"
    }
   ],
   "source": [
    "total_all_lead / vL_temp"
   ]
  },
  {
   "cell_type": "markdown",
   "id": "4e85b621-e3d5-4feb-98e3-93bd480fe7ad",
   "metadata": {},
   "source": [
    "7. Чему равен средний чек ?"
   ]
  },
  {
   "cell_type": "code",
   "execution_count": 14,
   "id": "5f0c9fe4-3352-45ea-a567-baa5da7cd3d2",
   "metadata": {},
   "outputs": [
    {
     "name": "stdout",
     "output_type": "stream",
     "text": [
      "ARPPU and AOV: 46500\n"
     ]
    }
   ],
   "source": [
    "base = 0.55 * 30000\n",
    "pro = 0.30 * 50000\n",
    "premium = 0.15 * 100000\n",
    "ARPPU = round(base+pro+premium)\n",
    "print(f'ARPPU and AOV: {ARPPU}')"
   ]
  },
  {
   "cell_type": "markdown",
   "id": "a052c0c2-2c11-41fa-8d33-3518f9415c80",
   "metadata": {},
   "source": [
    "8. На сколько месяцев нужно продавать подписку сразу, что бы окупать текущий CAC?"
   ]
  },
  {
   "cell_type": "code",
   "execution_count": 15,
   "id": "9bf77ba7-12b2-4778-8338-b501e394a7ce",
   "metadata": {},
   "outputs": [
    {
     "data": {
      "text/plain": [
       "101086"
      ]
     },
     "execution_count": 15,
     "metadata": {},
     "output_type": "execute_result"
    }
   ],
   "source": [
    "CAC"
   ]
  },
  {
   "cell_type": "code",
   "execution_count": 16,
   "id": "e89704d1-1490-4e66-8661-f8cbee00fe7a",
   "metadata": {},
   "outputs": [
    {
     "data": {
      "text/plain": [
       "2.1738924731182796"
      ]
     },
     "execution_count": 16,
     "metadata": {},
     "output_type": "execute_result"
    }
   ],
   "source": [
    "101086 / 46500"
   ]
  },
  {
   "cell_type": "markdown",
   "id": "e2bb35f1-9582-405f-b26f-29e37fd823cb",
   "metadata": {},
   "source": [
    "9. Какая маржинальность первой продажи до вычета налогов? Ответ округлите до целых по правилам математики.\n",
    "Если значение отрицательное - укажите знак минуса без пробела.\n",
    "Ответ дать в процентах при этом сам знак указывать не надо."
   ]
  },
  {
   "cell_type": "code",
   "execution_count": 27,
   "id": "fb23b58a-eeee-44f6-a5ab-99f126e011ac",
   "metadata": {},
   "outputs": [
    {
     "name": "stdout",
     "output_type": "stream",
     "text": [
      "CAC: 101086\n",
      "выручка КОМПАНИИ с учетом налога в 6 %: 43710.0\n",
      "выручка МЕНЕДЖЕРА 10 %: 4371.0\n",
      "стоимость первичной интеграции: 10000\n",
      "стоимость аренды сервера: 2000\n",
      "стоимость всех затрат на 1 клиента: 117457.0\n",
      "MARGIN: -153\n"
     ]
    }
   ],
   "source": [
    "print(f'CAC: {CAC}') # стоимость привлечения одного клиента\n",
    "print(f'выручка КОМПАНИИ с учетом налога в 6 %: {ARPPU * 0.94}') # средний чек\n",
    "print(f'выручка МЕНЕДЖЕРА 10 %: {ARPPU * 0.94 * 0.10}')\n",
    "print(f'стоимость первичной интеграции: {10000}')\n",
    "print(f'стоимость аренды сервера: {2000}')\n",
    "\n",
    "all_expenses = CAC + (ARPPU * 0.94 * 0.10) + 10000 + 2000\n",
    "print(f'стоимость всех затрат на 1 клиента: {all_expenses}')\n",
    "print(f'MARGIN: {round((ARPPU - all_expenses) / ARPPU * 100)}')"
   ]
  },
  {
   "cell_type": "markdown",
   "id": "65a9394a-0c61-41fa-8aea-b4bb4758c186",
   "metadata": {},
   "source": [
    "10. Во сколько раз LTV больше CAC ? Ответ округлите до десятых по правилам математики."
   ]
  },
  {
   "cell_type": "code",
   "execution_count": 32,
   "id": "381b3d9c-cfbe-422e-9b4e-b0ece0ecacaa",
   "metadata": {},
   "outputs": [
    {
     "data": {
      "text/plain": [
       "8.280078349128464"
      ]
     },
     "execution_count": 32,
     "metadata": {},
     "output_type": "execute_result"
    }
   ],
   "source": [
    "(18 * ARPPU) / CAC"
   ]
  },
  {
   "cell_type": "markdown",
   "id": "3a6ac4de-ccd5-4a80-b5b3-d7c49c35ab66",
   "metadata": {},
   "source": [
    "11. Какая итоговая маржинальность? Ответ округлите до целых и дайте без знака %."
   ]
  },
  {
   "cell_type": "code",
   "execution_count": 38,
   "id": "b2cecac6-460c-4e3c-a2f2-9f30cdf52f60",
   "metadata": {},
   "outputs": [
    {
     "data": {
      "text/plain": [
       "82"
      ]
     },
     "execution_count": 38,
     "metadata": {},
     "output_type": "execute_result"
    }
   ],
   "source": [
    "margin_all = CAC + (ARPPU * 0.94 * 0.10) + 10000 + (2000 * 18)\n",
    "margin_all = ((ARPPU * 18) - margin_all) / (ARPPU * 18)\n",
    "round(margin_all * 100)"
   ]
  },
  {
   "cell_type": "markdown",
   "id": "066b74af-979b-4d6f-a181-d32cf7fe1ca6",
   "metadata": {},
   "source": [
    "12. Сколько денег мы зарабатываем с одного клиента?"
   ]
  },
  {
   "cell_type": "code",
   "execution_count": 41,
   "id": "8c274df0-38f3-457d-bf6e-1c846e7eb6eb",
   "metadata": {},
   "outputs": [
    {
     "data": {
      "text/plain": [
       "685543.0"
      ]
     },
     "execution_count": 41,
     "metadata": {},
     "output_type": "execute_result"
    }
   ],
   "source": [
    "all_CAC = CAC + (ARPPU * 0.94 * 0.10) + 10000 + (2000 * 18)\n",
    "LT = 18\n",
    "LTV = ARPPU * LT - all_CAC\n",
    "LTV"
   ]
  },
  {
   "cell_type": "code",
   "execution_count": null,
   "id": "1eae62d9-7b47-4faf-8a73-97b23c9630ec",
   "metadata": {},
   "outputs": [],
   "source": []
  },
  {
   "cell_type": "code",
   "execution_count": null,
   "id": "9bf37aad-ca99-4b83-bd6b-2c390ccb0294",
   "metadata": {},
   "outputs": [],
   "source": []
  },
  {
   "cell_type": "markdown",
   "id": "98aeb19f-3344-43ad-a248-90effe8eb707",
   "metadata": {},
   "source": [
    "1. Анализ трафика и конверсии:\n",
    "\n",
    "- Выясните, сколько клиентов вы потенциально можете привлечь из 314 заявок при конверсии сайта 2.5%.\n",
    "- Учтите, что из этих заявок 25% являются недозвонами или не целевыми.\n",
    "Целевые заявки=\n",
    "314\n",
    "×\n",
    "0.75"
   ]
  },
  {
   "cell_type": "code",
   "execution_count": 3,
   "id": "17131c51-5a72-47a2-873e-464779b7e095",
   "metadata": {},
   "outputs": [
    {
     "name": "stdout",
     "output_type": "stream",
     "text": [
      "visits: 12560\n",
      "vLeads: 235.5\n"
     ]
    }
   ],
   "source": [
    "visits = round(314 / 0.025) # или количество поситителей сайта ?\n",
    "vLeads = 314 * 0.75\n",
    "print(f'visits: {visits}')\n",
    "print(f'vLeads: {vLeads}')"
   ]
  },
  {
   "cell_type": "code",
   "execution_count": 4,
   "id": "36563f7c-6744-481c-aeb8-8d2d2efb00c5",
   "metadata": {},
   "outputs": [
    {
     "data": {
      "text/plain": [
       "14444.0"
      ]
     },
     "execution_count": 4,
     "metadata": {},
     "output_type": "execute_result"
    }
   ],
   "source": [
    "(314 + 314 * 0.15) / 0.025"
   ]
  },
  {
   "cell_type": "markdown",
   "id": "5df94347-5d18-415e-bb6e-4b68100e5ac7",
   "metadata": {},
   "source": [
    "2. Определите количество клиентов, которые внесут первую оплату:\n",
    "\n",
    "- Из оставшихся 75% заявок, 20% вносят первую оплату.\n",
    "Оплата\n",
    "=Целевые заявки\n",
    "×\n",
    "0.2"
   ]
  },
  {
   "cell_type": "code",
   "execution_count": 36,
   "id": "15ddfca7-474a-4506-9d28-473a46921c5b",
   "metadata": {},
   "outputs": [
    {
     "name": "stdout",
     "output_type": "stream",
     "text": [
      "Purchases: 47\n"
     ]
    }
   ],
   "source": [
    "Purchases = vLeads * 0.2\n",
    "print(f'Purchases: {round(Purchases)}')"
   ]
  },
  {
   "cell_type": "markdown",
   "id": "f3be33ac-13c7-42b3-afcb-add5c0da0b84",
   "metadata": {},
   "source": [
    "3. Расчет затрат на привлечение клиентов:\n",
    "\n",
    "- Общие рекламные расходы составили 4,761,182 рублей.\n",
    "- Поделите эту сумму на количество клиентов, чтобы определить стоимость привлечения одного клиента."
   ]
  },
  {
   "cell_type": "code",
   "execution_count": 39,
   "id": "67aceed8-1576-4e7c-b6dd-fb2ecb4c63e2",
   "metadata": {},
   "outputs": [
    {
     "name": "stdout",
     "output_type": "stream",
     "text": [
      "CAC: 101086\n"
     ]
    }
   ],
   "source": [
    "CAC = math.trunc(4761182 / Purchases) # COST привлечения ONE USER\n",
    "print(f'CAC: {CAC}') # 101086"
   ]
  },
  {
   "cell_type": "code",
   "execution_count": 7,
   "id": "2801f5e1-23f5-44db-a034-345bc66181c6",
   "metadata": {},
   "outputs": [
    {
     "data": {
      "text/plain": [
       "20217"
      ]
     },
     "execution_count": 7,
     "metadata": {},
     "output_type": "execute_result"
    }
   ],
   "source": [
    "round(4761182 / vLeads) # COST VLEADS"
   ]
  },
  {
   "cell_type": "code",
   "execution_count": 8,
   "id": "0c26ce39-0acc-470e-a0ea-e5e88a70fa62",
   "metadata": {},
   "outputs": [
    {
     "data": {
      "text/plain": [
       "87286.14"
      ]
     },
     "execution_count": 8,
     "metadata": {},
     "output_type": "execute_result"
    }
   ],
   "source": [
    "round(CAC - (4761182 / 345), 2) # 5 test , answer = 32600"
   ]
  },
  {
   "cell_type": "code",
   "execution_count": 9,
   "id": "ad65809b-7c1b-48cd-a641-18288a991ae3",
   "metadata": {},
   "outputs": [
    {
     "data": {
      "text/plain": [
       "13801"
      ]
     },
     "execution_count": 9,
     "metadata": {},
     "output_type": "execute_result"
    }
   ],
   "source": [
    "round(4761182 / 345) # 6 answer = 26737"
   ]
  },
  {
   "cell_type": "markdown",
   "id": "1f093287-bffb-4603-82a1-f8721fe40db4",
   "metadata": {},
   "source": [
    "4. Расчет доходов:\n",
    "\n",
    "- Используйте структуру продаж, чтобы определить, какой процент клиентов выбирает каждый тариф.\n",
    "- Рассчитайте средний доход на клиента с учетом всех тарифных планов:\n",
    "Средний доход на клиента=0.55×30,000+0.30×50,000+0.15×100,000"
   ]
  },
  {
   "cell_type": "code",
   "execution_count": 10,
   "id": "8b3e569f-0fe7-48af-8d46-7d9af0fae8ed",
   "metadata": {},
   "outputs": [
    {
     "name": "stdout",
     "output_type": "stream",
     "text": [
      "ARPPU: 46500\n"
     ]
    }
   ],
   "source": [
    "# ARPPU \tRevenue / Paying Users\n",
    "base = 0.55 * 30000\n",
    "pro = 0.30 * 50000\n",
    "premium = 0.15 * 100000\n",
    "ARPPU = round(base+pro+premium)\n",
    "print(f'ARPPU: {ARPPU}')"
   ]
  },
  {
   "cell_type": "code",
   "execution_count": null,
   "id": "c2967072-aaf8-481d-8176-633e1d18b2d3",
   "metadata": {},
   "outputs": [],
   "source": []
  },
  {
   "cell_type": "code",
   "execution_count": 11,
   "id": "7ca0e94c-a939-4ef5-be6c-44ad2f5bece6",
   "metadata": {},
   "outputs": [
    {
     "data": {
      "text/plain": [
       "2185500"
      ]
     },
     "execution_count": 11,
     "metadata": {},
     "output_type": "execute_result"
    }
   ],
   "source": [
    "ARPPU * 47 "
   ]
  },
  {
   "cell_type": "markdown",
   "id": "e3614e45-a321-4c87-9b70-a7a5eaff188f",
   "metadata": {},
   "source": [
    "5. Структура затрат:\n",
    "\n",
    "- Расходы на первичную интеграцию: 10,000 рублей на клиента.\n",
    "- Ежемесячные расходы на сервер: 2,000 рублей."
   ]
  },
  {
   "cell_type": "code",
   "execution_count": 14,
   "id": "1a81055e-d402-4a7e-ad6e-c6879e89782c",
   "metadata": {},
   "outputs": [
    {
     "name": "stdout",
     "output_type": "stream",
     "text": [
      "first_inter: 10000\n",
      "month_expenses: 2000\n",
      "total_month_expenses: 36000\n"
     ]
    }
   ],
   "source": [
    "first_inter = 10000\n",
    "month_expenses = 2000\n",
    "total_month_expenses = month_expenses * LT\n",
    "print(f'first_inter: {first_inter}')\n",
    "print(f'month_expenses: {month_expenses}')\n",
    "print(f'total_month_expenses: {total_month_expenses}')"
   ]
  },
  {
   "cell_type": "markdown",
   "id": "8b3f2d5b-2435-4dbe-8bc8-138addb3f42e",
   "metadata": {},
   "source": [
    "6. Определение LTV (Lifetime Value):\n",
    "\n",
    "- Учтите, что клиент остаётся в среднем 1.5 года.\n",
    "- Рассчитайте LTV с учетом среднего дохода и долговременности клиента."
   ]
  },
  {
   "cell_type": "code",
   "execution_count": 13,
   "id": "9f3425e4-4d07-4450-a753-f1e4979863a8",
   "metadata": {},
   "outputs": [
    {
     "name": "stdout",
     "output_type": "stream",
     "text": [
      "LT: 18\n",
      "LTV: 837000\n"
     ]
    }
   ],
   "source": [
    "LT = 18\n",
    "LTV = ARPPU * LT\n",
    "print(f'LT: {LT}')\n",
    "print(f'LTV: {LTV}')"
   ]
  },
  {
   "cell_type": "code",
   "execution_count": 42,
   "id": "3cdaa3ce-5fcb-4c79-be3b-23bc231d5eb1",
   "metadata": {},
   "outputs": [
    {
     "data": {
      "text/plain": [
       "12.1"
      ]
     },
     "execution_count": 42,
     "metadata": {},
     "output_type": "execute_result"
    }
   ],
   "source": [
    "round(CAC / LTV * 100, 1) # test 10 answer 8,3, 8.3"
   ]
  },
  {
   "cell_type": "markdown",
   "id": "ffdd9205-98ee-42e3-aa35-7351f6c07db7",
   "metadata": {},
   "source": [
    "7. Рассчитайте прибыль на клиента за весь жизненный цикл:\n",
    "\n",
    "- Прибыль=LTV−Затраты на привлечение−Интеграция−Операционные затраты"
   ]
  },
  {
   "cell_type": "code",
   "execution_count": 44,
   "id": "43d42e59-5f11-41d6-8961-0ee88ad0b63d",
   "metadata": {},
   "outputs": [
    {
     "name": "stdout",
     "output_type": "stream",
     "text": [
      "PROFIT FOR ONE USER: 689914\n"
     ]
    }
   ],
   "source": [
    "profit = round(LTV - CAC - first_inter - total_month_expenses)\n",
    "print(f'PROFIT FOR ONE USER: {profit}') # 685543"
   ]
  },
  {
   "cell_type": "code",
   "execution_count": 30,
   "id": "d453a0cd-897c-4765-8cf3-8b660209ea91",
   "metadata": {},
   "outputs": [
    {
     "data": {
      "text/plain": [
       "-117.85321436742164"
      ]
     },
     "execution_count": 30,
     "metadata": {},
     "output_type": "execute_result"
    }
   ],
   "source": [
    "spent = 4761182\n",
    "revenue = ARPPU * Purchases\n",
    "profit = (ARPPU * Purchases) - spent\n",
    "margin = (profit /  revenue) * 100\n",
    "margin # 9 test answer -153"
   ]
  },
  {
   "cell_type": "code",
   "execution_count": null,
   "id": "4d9e8be9-0d76-4843-b97f-5c5ebcdc5d0a",
   "metadata": {},
   "outputs": [],
   "source": []
  },
  {
   "cell_type": "code",
   "execution_count": 12,
   "id": "ee7f8395-53fe-40ba-9bb5-6d1ef2b450aa",
   "metadata": {},
   "outputs": [
    {
     "name": "stdout",
     "output_type": "stream",
     "text": [
      "spent: 4,761,182\n",
      "Clicks: 12560.0\n",
      "Leads: 314\n",
      "vLeads: 235.50\n",
      "vCPL: 20,217\n",
      "Purchases: 47\n",
      "CR2: 15.0%\n",
      "\n",
      "count base users: 26\n",
      "revenue base users: 780,000\n",
      "count pro users: 14\n",
      "revenue pro users: 700,000\n",
      "count premium users: 7\n",
      "revenue premium users: 700,000\n",
      "\n",
      "Revenue: 2,180,000\n",
      "AOV: 46,285\n",
      "ARPPU_RUB: 46,285\n",
      "LT: 18\n",
      "LTV_RUB: 833,130\n"
     ]
    }
   ],
   "source": [
    "invalid_rate = 0.25\n",
    "\n",
    "# маркетинговое привлечение\n",
    "spent = 4761182\n",
    "impression = None\n",
    "#reach  = 314 * 100 / 2.5\n",
    "AVG_impression = None\n",
    "CPM = None\n",
    "Clicks = 314 * 100 / 2.5\n",
    "CTR = None\n",
    "CPC = None\n",
    "#Bounce_rate = reach - reach * 0.25\n",
    "Leads = 314\n",
    "CR1 = None\n",
    "CPL = None\n",
    "vLeads = Leads * (1 - invalid_rate)\n",
    "vCR = None\n",
    "vCPL = spent / vLeads\n",
    "Purchases = vLeads * 0.20  # ?\n",
    "CR2 = Purchases / Leads * 100\n",
    "CAC = None\n",
    "\n",
    "invalid_rate = 0.25\n",
    "\n",
    "# расчёт количества пользователей по тарифам\n",
    "base = Purchases * 0.55\n",
    "pro = Purchases * 0.30\n",
    "premium = Purchases * 0.15\n",
    "\n",
    "# выручка по тарифам\n",
    "revenue_base = round(base) * 30000\n",
    "revenue_pro = round(pro) * 50000\n",
    "revenue_premium = round(premium) * 100000\n",
    "\n",
    "# выручка и издержки на когорту пользователей \n",
    "Revenue = round(sum([revenue_base, revenue_pro, revenue_premium]))\n",
    "AOV = round(Revenue / Purchases)\n",
    "Marketing_COGS_percent = None\n",
    "Marketing_COGS_RUB = None\n",
    "_1ST_sale_COGS_percent = None\n",
    "_1ST_sale_COGS_RUB = None\n",
    "Reccuring_month_COGS_RUB = None\n",
    "_1ST_month_COGS_RUB = None\n",
    "\n",
    "# Финансовые показатели в моменте\n",
    "Profit_RUB = None\n",
    "Profit_per_client = None\n",
    "Margin_percent = None\n",
    "ROMI_ROI_percent = None \n",
    "\n",
    "# Финансовые показатели с учетом LT\n",
    "LT = 18\n",
    "ARPPU_RUB = round(Revenue / Purchases)\n",
    "LTV_RUB = ARPPU_RUB * LT\n",
    "Profit = None\n",
    "Profit_per_client_RUB = None\n",
    "margin_percent = None\n",
    "LTV_CAC = None\n",
    "ROMI_ROI_percent = None\n",
    "\n",
    "# ===== Вывод =====\n",
    "print(f'spent: {spent:,}')\n",
    "print(f'Clicks: {Clicks}')\n",
    "#print(f'Bounce_rate: {Bounce_rate}')\n",
    "print(f'Leads: {Leads}')\n",
    "print(f'vLeads: {vLeads:.2f}')\n",
    "print(f'vCPL: {round(vCPL):,}')\n",
    "print(f'Purchases: {round(Purchases)}')\n",
    "print(f'CR2: {round(CR2, 2)}%')\n",
    "print()\n",
    "print(f'count base users: {round(base)}')\n",
    "print(f'revenue base users: {revenue_base:,}')\n",
    "print(f'count pro users: {round(pro)}')\n",
    "print(f'revenue pro users: {revenue_pro:,}')\n",
    "print(f'count premium users: {round(premium)}')\n",
    "print(f'revenue premium users: {revenue_premium:,}')\n",
    "print()\n",
    "print(f'Revenue: {Revenue:,}')\n",
    "print(f'AOV: {AOV:,}')\n",
    "print(f'ARPPU_RUB: {ARPPU_RUB:,}')\n",
    "print(f'LT: {LT}')\n",
    "print(f'LTV_RUB: {LTV_RUB:,}')"
   ]
  },
  {
   "cell_type": "code",
   "execution_count": null,
   "id": "d0b27188-4535-4bef-8dd9-a0f991ea8e1f",
   "metadata": {},
   "outputs": [],
   "source": []
  },
  {
   "cell_type": "code",
   "execution_count": 14,
   "id": "829eec55-ac23-4e87-bfd5-524a4c1fece0",
   "metadata": {},
   "outputs": [
    {
     "data": {
      "text/plain": [
       "3768"
      ]
     },
     "execution_count": 14,
     "metadata": {},
     "output_type": "execute_result"
    }
   ],
   "source": [
    "Leads * 12"
   ]
  }
 ],
 "metadata": {
  "kernelspec": {
   "display_name": "Python [conda env:base] *",
   "language": "python",
   "name": "conda-base-py"
  },
  "language_info": {
   "codemirror_mode": {
    "name": "ipython",
    "version": 3
   },
   "file_extension": ".py",
   "mimetype": "text/x-python",
   "name": "python",
   "nbconvert_exporter": "python",
   "pygments_lexer": "ipython3",
   "version": "3.12.7"
  }
 },
 "nbformat": 4,
 "nbformat_minor": 5
}
